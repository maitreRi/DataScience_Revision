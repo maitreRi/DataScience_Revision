{
 "cells": [
  {
   "cell_type": "code",
   "execution_count": 7,
   "metadata": {},
   "outputs": [],
   "source": [
    "# Import des packages\n",
    "import numpy as np\n",
    "import matplotlib.pyplot as plt\n",
    "import pandas as pd\n",
    "from mlxtend.frequent_patterns import apriori, association_rules\n",
    "import seaborn as sns"
   ]
  },
  {
   "cell_type": "code",
   "execution_count": 8,
   "metadata": {},
   "outputs": [
    {
     "data": {
      "text/html": [
       "<div>\n",
       "<style scoped>\n",
       "    .dataframe tbody tr th:only-of-type {\n",
       "        vertical-align: middle;\n",
       "    }\n",
       "\n",
       "    .dataframe tbody tr th {\n",
       "        vertical-align: top;\n",
       "    }\n",
       "\n",
       "    .dataframe thead th {\n",
       "        text-align: right;\n",
       "    }\n",
       "</style>\n",
       "<table border=\"1\" class=\"dataframe\">\n",
       "  <thead>\n",
       "    <tr style=\"text-align: right;\">\n",
       "      <th></th>\n",
       "      <th>Class</th>\n",
       "      <th>Age</th>\n",
       "      <th>Sex</th>\n",
       "      <th>Survived</th>\n",
       "    </tr>\n",
       "  </thead>\n",
       "  <tbody>\n",
       "    <tr>\n",
       "      <th>0</th>\n",
       "      <td>first</td>\n",
       "      <td>adult</td>\n",
       "      <td>male</td>\n",
       "      <td>yes</td>\n",
       "    </tr>\n",
       "    <tr>\n",
       "      <th>1</th>\n",
       "      <td>first</td>\n",
       "      <td>adult</td>\n",
       "      <td>male</td>\n",
       "      <td>yes</td>\n",
       "    </tr>\n",
       "    <tr>\n",
       "      <th>2</th>\n",
       "      <td>first</td>\n",
       "      <td>adult</td>\n",
       "      <td>male</td>\n",
       "      <td>yes</td>\n",
       "    </tr>\n",
       "    <tr>\n",
       "      <th>3</th>\n",
       "      <td>first</td>\n",
       "      <td>adult</td>\n",
       "      <td>male</td>\n",
       "      <td>yes</td>\n",
       "    </tr>\n",
       "    <tr>\n",
       "      <th>4</th>\n",
       "      <td>first</td>\n",
       "      <td>adult</td>\n",
       "      <td>male</td>\n",
       "      <td>yes</td>\n",
       "    </tr>\n",
       "  </tbody>\n",
       "</table>\n",
       "</div>"
      ],
      "text/plain": [
       "   Class    Age   Sex Survived\n",
       "0  first  adult  male      yes\n",
       "1  first  adult  male      yes\n",
       "2  first  adult  male      yes\n",
       "3  first  adult  male      yes\n",
       "4  first  adult  male      yes"
      ]
     },
     "execution_count": 8,
     "metadata": {},
     "output_type": "execute_result"
    }
   ],
   "source": [
    "# import des données\n",
    "df = pd.read_csv('Data/Titanic.csv', sep=';')\n",
    "df.head()"
   ]
  },
  {
   "cell_type": "code",
   "execution_count": 9,
   "metadata": {},
   "outputs": [
    {
     "name": "stdout",
     "output_type": "stream",
     "text": [
      "<class 'pandas.core.frame.DataFrame'>\n",
      "RangeIndex: 2201 entries, 0 to 2200\n",
      "Data columns (total 4 columns):\n",
      " #   Column    Non-Null Count  Dtype \n",
      "---  ------    --------------  ----- \n",
      " 0   Class     2201 non-null   object\n",
      " 1   Age       2201 non-null   object\n",
      " 2   Sex       2201 non-null   object\n",
      " 3   Survived  2201 non-null   object\n",
      "dtypes: object(4)\n",
      "memory usage: 34.5+ KB\n"
     ]
    }
   ],
   "source": [
    "# Infos sur les donées\n",
    "df.info()"
   ]
  },
  {
   "cell_type": "code",
   "execution_count": 10,
   "metadata": {},
   "outputs": [
    {
     "data": {
      "text/html": [
       "<div>\n",
       "<style scoped>\n",
       "    .dataframe tbody tr th:only-of-type {\n",
       "        vertical-align: middle;\n",
       "    }\n",
       "\n",
       "    .dataframe tbody tr th {\n",
       "        vertical-align: top;\n",
       "    }\n",
       "\n",
       "    .dataframe thead th {\n",
       "        text-align: right;\n",
       "    }\n",
       "</style>\n",
       "<table border=\"1\" class=\"dataframe\">\n",
       "  <thead>\n",
       "    <tr style=\"text-align: right;\">\n",
       "      <th></th>\n",
       "      <th>Class</th>\n",
       "      <th>Age</th>\n",
       "      <th>Sex</th>\n",
       "      <th>Survived</th>\n",
       "    </tr>\n",
       "  </thead>\n",
       "  <tbody>\n",
       "    <tr>\n",
       "      <th>count</th>\n",
       "      <td>2201</td>\n",
       "      <td>2201</td>\n",
       "      <td>2201</td>\n",
       "      <td>2201</td>\n",
       "    </tr>\n",
       "    <tr>\n",
       "      <th>unique</th>\n",
       "      <td>4</td>\n",
       "      <td>2</td>\n",
       "      <td>2</td>\n",
       "      <td>2</td>\n",
       "    </tr>\n",
       "    <tr>\n",
       "      <th>top</th>\n",
       "      <td>crew</td>\n",
       "      <td>adult</td>\n",
       "      <td>male</td>\n",
       "      <td>no</td>\n",
       "    </tr>\n",
       "    <tr>\n",
       "      <th>freq</th>\n",
       "      <td>885</td>\n",
       "      <td>2092</td>\n",
       "      <td>1731</td>\n",
       "      <td>1490</td>\n",
       "    </tr>\n",
       "  </tbody>\n",
       "</table>\n",
       "</div>"
      ],
      "text/plain": [
       "       Class    Age   Sex Survived\n",
       "count   2201   2201  2201     2201\n",
       "unique     4      2     2        2\n",
       "top     crew  adult  male       no\n",
       "freq     885   2092  1731     1490"
      ]
     },
     "execution_count": 10,
     "metadata": {},
     "output_type": "execute_result"
    }
   ],
   "source": [
    "# Description des données\n",
    "df.describe()"
   ]
  },
  {
   "cell_type": "code",
   "execution_count": 11,
   "metadata": {},
   "outputs": [
    {
     "data": {
      "image/png": "[encoded data removed]",
      "text/plain": [
       "<Figure size 432x288 with 1 Axes>"
      ]
     },
     "metadata": {},
     "output_type": "display_data"
    },
    {
     "data": {
      "image/png": "[encoded data removed]",
      "text/plain": [
       "<Figure size 432x288 with 1 Axes>"
      ]
     },
     "metadata": {},
     "output_type": "display_data"
    },
    {
     "data": {
      "image/png": "[encoded data removed]",
      "text/plain": [
       "<Figure size 432x288 with 1 Axes>"
      ]
     },
     "metadata": {},
     "output_type": "display_data"
    },
    {
     "data": {
      "image/png": "[encoded data removed]",
      "text/plain": [
       "<Figure size 432x288 with 1 Axes>"
      ]
     },
     "metadata": {},
     "output_type": "display_data"
    }
   ],
   "source": [
    "# Rendu visuel des données\n",
    "for x in ['Class','Age', 'Sex', 'Survived']:\n",
    "    sns.set(style=\"whitegrid\")\n",
    "    ax = sns.countplot(y=x, hue=\"Survived\", data=df)\n",
    "    plt.ylabel(x)\n",
    "    plt.title('Survival Plot')\n",
    "    plt.show()\n"
   ]
  },
  {
   "cell_type": "code",
   "execution_count": 12,
   "metadata": {},
   "outputs": [
    {
     "name": "stdout",
     "output_type": "stream",
     "text": [
      "                 antecedents               consequents   support  confidence  \\\n",
      "0                 (Sex_male)               (Age_adult)  0.757383    0.963027   \n",
      "1                (Age_adult)                (Sex_male)  0.757383    0.796845   \n",
      "2              (Survived_no)               (Age_adult)  0.653339    0.965101   \n",
      "3                (Age_adult)             (Survived_no)  0.653339    0.687380   \n",
      "4              (Survived_no)                (Sex_male)  0.619718    0.915436   \n",
      "5                 (Sex_male)             (Survived_no)  0.619718    0.787984   \n",
      "6    (Survived_no, Sex_male)               (Age_adult)  0.603816    0.974340   \n",
      "7   (Survived_no, Age_adult)                (Sex_male)  0.603816    0.924200   \n",
      "8      (Sex_male, Age_adult)             (Survived_no)  0.603816    0.797241   \n",
      "9              (Survived_no)     (Sex_male, Age_adult)  0.603816    0.891946   \n",
      "10                (Sex_male)  (Survived_no, Age_adult)  0.603816    0.767764   \n",
      "11               (Age_adult)   (Survived_no, Sex_male)  0.603816    0.635277   \n",
      "\n",
      "        lift  \n",
      "0   1.013204  \n",
      "1   1.013204  \n",
      "2   1.015386  \n",
      "3   1.015386  \n",
      "4   1.163995  \n",
      "5   1.163995  \n",
      "6   1.025106  \n",
      "7   1.175139  \n",
      "8   1.177669  \n",
      "9   1.177669  \n",
      "10  1.175139  \n",
      "11  1.025106  \n"
     ]
    }
   ],
   "source": [
    "# Convertion du dataset en One_hot_encoding (0,1 pour les datas)\n",
    "df_encoded = pd.get_dummies(df)\n",
    "\n",
    "# application de l'algo apriori pour obtenir les itemsets fréquents\n",
    "frequent_itemsets = apriori(df_encoded, min_support=0.5, use_colnames=True)\n",
    "\n",
    "# Dérivé des règles d'association à partir des itemsets fréquents\n",
    "rules = association_rules(frequent_itemsets, metric=\"lift\", min_threshold=1)\n",
    "print(rules[['antecedents', 'consequents', 'support', 'confidence', 'lift']])\n"
   ]
  }
 ],
 "metadata": {
  "kernelspec": {
   "display_name": "Python 3",
   "language": "python",
   "name": "python3"
  },
  "language_info": {
   "codemirror_mode": {
    "name": "ipython",
    "version": 3
   },
   "file_extension": ".py",
   "mimetype": "text/x-python",
   "name": "python",
   "nbconvert_exporter": "python",
   "pygments_lexer": "ipython3",
   "version": "3.8.3"
  },
  "orig_nbformat": 4
 },
 "nbformat": 4,
 "nbformat_minor": 2
}
