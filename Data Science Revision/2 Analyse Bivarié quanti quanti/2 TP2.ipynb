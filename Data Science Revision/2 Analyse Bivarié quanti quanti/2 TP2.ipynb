{
 "cells": [
  {
   "cell_type": "code",
   "execution_count": 35,
   "metadata": {},
   "outputs": [],
   "source": [
    "# import des packages\n",
    "import pandas as pd\n",
    "import matplotlib.pyplot as plt\n",
    "import numpy as np\n",
    "from scipy.stats import pearsonr\n",
    "from sklearn.linear_model import LinearRegression\n",
    "from scipy.stats import linregress"
   ]
  },
  {
   "cell_type": "code",
   "execution_count": 36,
   "metadata": {},
   "outputs": [],
   "source": [
    "# Création du dataframe\n",
    "df = pd.read_csv(\"data\\DepensesEduData.csv\", sep=\";\", header = 0, index_col=0)"
   ]
  },
  {
   "cell_type": "code",
   "execution_count": 37,
   "metadata": {},
   "outputs": [
    {
     "data": {
      "text/html": [
       "<div>\n",
       "<style scoped>\n",
       "    .dataframe tbody tr th:only-of-type {\n",
       "        vertical-align: middle;\n",
       "    }\n",
       "\n",
       "    .dataframe tbody tr th {\n",
       "        vertical-align: top;\n",
       "    }\n",
       "\n",
       "    .dataframe thead th {\n",
       "        text-align: right;\n",
       "    }\n",
       "</style>\n",
       "<table border=\"1\" class=\"dataframe\">\n",
       "  <thead>\n",
       "    <tr style=\"text-align: right;\">\n",
       "      <th></th>\n",
       "      <th>nbEleves</th>\n",
       "      <th>Depenses</th>\n",
       "    </tr>\n",
       "  </thead>\n",
       "  <tbody>\n",
       "    <tr>\n",
       "      <th>Allemagne</th>\n",
       "      <td>14065,4</td>\n",
       "      <td>106626,4</td>\n",
       "    </tr>\n",
       "    <tr>\n",
       "      <th>Autriche</th>\n",
       "      <td>1467,8</td>\n",
       "      <td>13722,8</td>\n",
       "    </tr>\n",
       "    <tr>\n",
       "      <th>Belgique</th>\n",
       "      <td>2427,7</td>\n",
       "      <td>18427,4</td>\n",
       "    </tr>\n",
       "    <tr>\n",
       "      <th>Bulgarie</th>\n",
       "      <td>1141,8</td>\n",
       "      <td>2968</td>\n",
       "    </tr>\n",
       "    <tr>\n",
       "      <th>Danemark</th>\n",
       "      <td>1151,6</td>\n",
       "      <td>12909,4</td>\n",
       "    </tr>\n",
       "  </tbody>\n",
       "</table>\n",
       "</div>"
      ],
      "text/plain": [
       "          nbEleves  Depenses\n",
       "Allemagne  14065,4  106626,4\n",
       "Autriche    1467,8   13722,8\n",
       "Belgique    2427,7   18427,4\n",
       "Bulgarie    1141,8      2968\n",
       "Danemark    1151,6   12909,4"
      ]
     },
     "execution_count": 37,
     "metadata": {},
     "output_type": "execute_result"
    }
   ],
   "source": [
    "# première visualisation des datas du df\n",
    "df.head()"
   ]
  },
  {
   "cell_type": "code",
   "execution_count": 38,
   "metadata": {},
   "outputs": [
    {
     "name": "stdout",
     "output_type": "stream",
     "text": [
      "<class 'pandas.core.frame.DataFrame'>\n",
      "Index: 26 entries, Allemagne to PaysMagique\n",
      "Data columns (total 2 columns):\n",
      " #   Column    Non-Null Count  Dtype \n",
      "---  ------    --------------  ----- \n",
      " 0   nbEleves  26 non-null     object\n",
      " 1   Depenses  26 non-null     object\n",
      "dtypes: object(2)\n",
      "memory usage: 312.0+ bytes\n"
     ]
    }
   ],
   "source": [
    "# description des données du df\n",
    "df.info()"
   ]
  },
  {
   "cell_type": "code",
   "execution_count": 39,
   "metadata": {},
   "outputs": [],
   "source": [
    "# On voit ici que les données sont de type objet, or on voudrait des float, on remplace la virgule par un . pour le changement de type\n",
    "def format(df, col):\n",
    "    for i in range(len(df[col])):\n",
    "        df[col][i] = df[col][i].replace(',', '.')\n",
    "    df[col] = df[col].astype(float)\n",
    "    return df"
   ]
  },
  {
   "cell_type": "code",
   "execution_count": 40,
   "metadata": {},
   "outputs": [
    {
     "name": "stderr",
     "output_type": "stream",
     "text": [
      "C:\\Users\\CYTECH~1\\AppData\\Local\\Temp/ipykernel_9688/1107289529.py:4: SettingWithCopyWarning: \n",
      "A value is trying to be set on a copy of a slice from a DataFrame\n",
      "\n",
      "See the caveats in the documentation: https://pandas.pydata.org/pandas-docs/stable/user_guide/indexing.html#returning-a-view-versus-a-copy\n",
      "  df[col][i] = df[col][i].replace(',', '.')\n"
     ]
    }
   ],
   "source": [
    "# On voit ici que les données sont de type objet, or on voudrait des float, on remplace la virgule par un . pour le changement de type\n",
    "df = format(df, 'Depenses')\n",
    "df = format(df, 'nbEleves')"
   ]
  },
  {
   "cell_type": "code",
   "execution_count": 41,
   "metadata": {},
   "outputs": [
    {
     "data": {
      "text/html": [
       "<div>\n",
       "<style scoped>\n",
       "    .dataframe tbody tr th:only-of-type {\n",
       "        vertical-align: middle;\n",
       "    }\n",
       "\n",
       "    .dataframe tbody tr th {\n",
       "        vertical-align: top;\n",
       "    }\n",
       "\n",
       "    .dataframe thead th {\n",
       "        text-align: right;\n",
       "    }\n",
       "</style>\n",
       "<table border=\"1\" class=\"dataframe\">\n",
       "  <thead>\n",
       "    <tr style=\"text-align: right;\">\n",
       "      <th></th>\n",
       "      <th>count</th>\n",
       "      <th>mean</th>\n",
       "      <th>std</th>\n",
       "      <th>min</th>\n",
       "      <th>25%</th>\n",
       "      <th>50%</th>\n",
       "      <th>75%</th>\n",
       "      <th>max</th>\n",
       "    </tr>\n",
       "  </thead>\n",
       "  <tbody>\n",
       "    <tr>\n",
       "      <th>nbEleves</th>\n",
       "      <td>26.0</td>\n",
       "      <td>4846.961538</td>\n",
       "      <td>7483.535029</td>\n",
       "      <td>74.0</td>\n",
       "      <td>1054.90</td>\n",
       "      <td>1864.2</td>\n",
       "      <td>6687.35</td>\n",
       "      <td>35062.2</td>\n",
       "    </tr>\n",
       "    <tr>\n",
       "      <th>Depenses</th>\n",
       "      <td>26.0</td>\n",
       "      <td>25399.626923</td>\n",
       "      <td>32314.238293</td>\n",
       "      <td>492.9</td>\n",
       "      <td>3048.05</td>\n",
       "      <td>10030.8</td>\n",
       "      <td>27863.85</td>\n",
       "      <td>106626.4</td>\n",
       "    </tr>\n",
       "  </tbody>\n",
       "</table>\n",
       "</div>"
      ],
      "text/plain": [
       "          count          mean           std    min      25%      50%  \\\n",
       "nbEleves   26.0   4846.961538   7483.535029   74.0  1054.90   1864.2   \n",
       "Depenses   26.0  25399.626923  32314.238293  492.9  3048.05  10030.8   \n",
       "\n",
       "               75%       max  \n",
       "nbEleves   6687.35   35062.2  \n",
       "Depenses  27863.85  106626.4  "
      ]
     },
     "execution_count": 41,
     "metadata": {},
     "output_type": "execute_result"
    }
   ],
   "source": [
    "# Étude du df avec compte des données, moyenne, écrat type, min, 1Q, mediane, 3Q et max\n",
    "summary = df.describe()\n",
    "summary = summary.transpose()\n",
    "summary.head()"
   ]
  },
  {
   "cell_type": "code",
   "execution_count": 42,
   "metadata": {},
   "outputs": [
    {
     "data": {
      "image/png": "[encoded data removed]",
      "text/plain": [
       "<Figure size 432x288 with 1 Axes>"
      ]
     },
     "metadata": {
      "needs_background": "light"
     },
     "output_type": "display_data"
    },
    {
     "data": {
      "image/png": "[encoded data removed]",
      "text/plain": [
       "<Figure size 432x288 with 1 Axes>"
      ]
     },
     "metadata": {
      "needs_background": "light"
     },
     "output_type": "display_data"
    }
   ],
   "source": [
    "df.boxplot(column = 'Depenses', showmeans = True)\n",
    "plt.ylabel('euros')\n",
    "plt.title('Boxplot des dépenses')\n",
    "plt.show()\n",
    "df.boxplot(column = 'nbEleves', showmeans = True)\n",
    "plt.ylabel('nombre de scolarisé')\n",
    "plt.title('Boxplot des élèves')\n",
    "plt.show()"
   ]
  },
  {
   "cell_type": "markdown",
   "metadata": {},
   "source": [
    "On remarque quelques valeurs qui semblent abérrantes"
   ]
  },
  {
   "cell_type": "code",
   "execution_count": 43,
   "metadata": {},
   "outputs": [
    {
     "data": {
      "text/plain": [
       "Text(0.5, 1.0, 'nuage de points des dépenses en fonction du nombre d élèves')"
      ]
     },
     "execution_count": 43,
     "metadata": {},
     "output_type": "execute_result"
    },
    {
     "data": {
      "image/png": "[encoded data removed]",
      "text/plain": [
       "<Figure size 432x288 with 1 Axes>"
      ]
     },
     "metadata": {
      "needs_background": "light"
     },
     "output_type": "display_data"
    }
   ],
   "source": [
    "# Construction d'un graph en nuage de points en fonction du nbr d'éleves et des dépenses par pays. \n",
    "plt.scatter(df['nbEleves'], df['Depenses'])\n",
    "plt.ylabel('Depenses')\n",
    "plt.xlabel('nbEleves')\n",
    "plt.xticks(rotation = 90)\n",
    "plt.title('nuage de points des dépenses en fonction du nombre d élèves')"
   ]
  },
  {
   "cell_type": "markdown",
   "metadata": {},
   "source": [
    "Ici la variables tout à droite semble faussé. Nous allons tout de même étudier la matrice de covariance et l'indicateur de correlation avec"
   ]
  },
  {
   "cell_type": "code",
   "execution_count": 44,
   "metadata": {},
   "outputs": [
    {
     "name": "stdout",
     "output_type": "stream",
     "text": [
      "matrice de covariance : \n",
      "\n"
     ]
    },
    {
     "data": {
      "text/plain": [
       "array([[1.04421000e+09, 1.75006654e+08],\n",
       "       [1.75006654e+08, 5.60032965e+07]])"
      ]
     },
     "execution_count": 44,
     "metadata": {},
     "output_type": "execute_result"
    }
   ],
   "source": [
    "# étude de la matrice de covariance\n",
    "print(\"matrice de covariance : \\n\")\n",
    "np.cov(df['Depenses'], df['nbEleves'])"
   ]
  },
  {
   "cell_type": "code",
   "execution_count": 45,
   "metadata": {},
   "outputs": [
    {
     "name": "stdout",
     "output_type": "stream",
     "text": [
      "coefficient de Pearson = 0.7236921197262562\n"
     ]
    }
   ],
   "source": [
    "# Coefficient de correlation linéaire entre les dépenses d'un pays et son nombre d'élèves\n",
    "coeff_pearson,_ = pearsonr(df['Depenses'], df['nbEleves'])\n",
    "print(\"coefficient de Pearson = {}\".format(coeff_pearson))"
   ]
  },
  {
   "cell_type": "markdown",
   "metadata": {},
   "source": [
    "On se rend compte que l'indice de correlation n'est pas aussi haut qu'attendu, on réhitère les calcules sans la valeurs la plus aberrante."
   ]
  },
  {
   "cell_type": "code",
   "execution_count": 46,
   "metadata": {},
   "outputs": [],
   "source": [
    "# Le pays imaginaire semble être une valeur aberrante, on réeffectue les observations en le retirant\n",
    "df_propre = df.copy()\n",
    "df_propre = df_propre[df_propre['nbEleves']<30000]"
   ]
  },
  {
   "cell_type": "code",
   "execution_count": 47,
   "metadata": {},
   "outputs": [
    {
     "data": {
      "image/png": "[encoded data removed]",
      "text/plain": [
       "<Figure size 432x288 with 1 Axes>"
      ]
     },
     "metadata": {
      "needs_background": "light"
     },
     "output_type": "display_data"
    },
    {
     "data": {
      "image/png": "[encoded data removed]",
      "text/plain": [
       "<Figure size 432x288 with 1 Axes>"
      ]
     },
     "metadata": {
      "needs_background": "light"
     },
     "output_type": "display_data"
    }
   ],
   "source": [
    "df_propre.boxplot(column = 'Depenses', showmeans = True)\n",
    "plt.ylabel('euros')\n",
    "plt.title('Boxplot des dépenses')\n",
    "plt.show()\n",
    "df_propre.boxplot(column = 'nbEleves', showmeans = True)\n",
    "plt.ylabel('nombre de scolarisé')\n",
    "plt.title('Boxplot des élèves')\n",
    "plt.show()"
   ]
  },
  {
   "cell_type": "code",
   "execution_count": 48,
   "metadata": {},
   "outputs": [
    {
     "name": "stdout",
     "output_type": "stream",
     "text": [
      "Matrice de covariance : \n",
      "\n",
      " [[1.02950871e+09 1.34310228e+08]\n",
      " [1.34310228e+08 1.87751397e+07]] \n",
      "\n",
      "coefficient de Pearson = 0.966056406103996\n"
     ]
    }
   ],
   "source": [
    "# on recalcule le coefficient de correlatione et la matrice de covariance sans la valeurs aberrantes\n",
    "print(\"Matrice de covariance : \\n\\n\", np.cov(df_propre['Depenses'], df_propre['nbEleves']), \"\\n\")\n",
    "coeff_pearson,_ = pearsonr(df_propre['Depenses'], df_propre['nbEleves'])\n",
    "print(\"coefficient de Pearson = {}\".format(coeff_pearson))"
   ]
  },
  {
   "cell_type": "markdown",
   "metadata": {},
   "source": [
    "Il est confirmé que le pays imaginaire fait grandement baisser la correlation entre les deux variables."
   ]
  },
  {
   "cell_type": "code",
   "execution_count": 49,
   "metadata": {},
   "outputs": [
    {
     "data": {
      "text/html": [
       "<div>\n",
       "<style scoped>\n",
       "    .dataframe tbody tr th:only-of-type {\n",
       "        vertical-align: middle;\n",
       "    }\n",
       "\n",
       "    .dataframe tbody tr th {\n",
       "        vertical-align: top;\n",
       "    }\n",
       "\n",
       "    .dataframe thead th {\n",
       "        text-align: right;\n",
       "    }\n",
       "</style>\n",
       "<table border=\"1\" class=\"dataframe\">\n",
       "  <thead>\n",
       "    <tr style=\"text-align: right;\">\n",
       "      <th></th>\n",
       "      <th>nbEleves</th>\n",
       "      <th>Depenses</th>\n",
       "    </tr>\n",
       "  </thead>\n",
       "  <tbody>\n",
       "    <tr>\n",
       "      <th>Allemagne</th>\n",
       "      <td>14065.4</td>\n",
       "      <td>106626.4</td>\n",
       "    </tr>\n",
       "    <tr>\n",
       "      <th>Autriche</th>\n",
       "      <td>1467.8</td>\n",
       "      <td>13722.8</td>\n",
       "    </tr>\n",
       "    <tr>\n",
       "      <th>Belgique</th>\n",
       "      <td>2427.7</td>\n",
       "      <td>18427.4</td>\n",
       "    </tr>\n",
       "    <tr>\n",
       "      <th>Bulgarie</th>\n",
       "      <td>1141.8</td>\n",
       "      <td>2968.0</td>\n",
       "    </tr>\n",
       "    <tr>\n",
       "      <th>Danemark</th>\n",
       "      <td>1151.6</td>\n",
       "      <td>12909.4</td>\n",
       "    </tr>\n",
       "    <tr>\n",
       "      <th>Espagne</th>\n",
       "      <td>7615.3</td>\n",
       "      <td>51025.8</td>\n",
       "    </tr>\n",
       "    <tr>\n",
       "      <th>Estonie</th>\n",
       "      <td>257.5</td>\n",
       "      <td>1116.1</td>\n",
       "    </tr>\n",
       "    <tr>\n",
       "      <th>Finlande</th>\n",
       "      <td>1251.3</td>\n",
       "      <td>9177.7</td>\n",
       "    </tr>\n",
       "    <tr>\n",
       "      <th>France</th>\n",
       "      <td>12264.6</td>\n",
       "      <td>96315.8</td>\n",
       "    </tr>\n",
       "    <tr>\n",
       "      <th>Hongrie</th>\n",
       "      <td>1873.0</td>\n",
       "      <td>8160.8</td>\n",
       "    </tr>\n",
       "    <tr>\n",
       "      <th>Irlande</th>\n",
       "      <td>1053.4</td>\n",
       "      <td>7873.1</td>\n",
       "    </tr>\n",
       "    <tr>\n",
       "      <th>Italie</th>\n",
       "      <td>9510.4</td>\n",
       "      <td>65641.2</td>\n",
       "    </tr>\n",
       "    <tr>\n",
       "      <th>Lettonie</th>\n",
       "      <td>430.6</td>\n",
       "      <td>1579.4</td>\n",
       "    </tr>\n",
       "    <tr>\n",
       "      <th>Lituanie</th>\n",
       "      <td>738.0</td>\n",
       "      <td>2325.9</td>\n",
       "    </tr>\n",
       "    <tr>\n",
       "      <th>Luxembourg</th>\n",
       "      <td>80.2</td>\n",
       "      <td>1035.9</td>\n",
       "    </tr>\n",
       "    <tr>\n",
       "      <th>Malte</th>\n",
       "      <td>74.0</td>\n",
       "      <td>492.9</td>\n",
       "    </tr>\n",
       "    <tr>\n",
       "      <th>PaysBas</th>\n",
       "      <td>3379.7</td>\n",
       "      <td>28686.1</td>\n",
       "    </tr>\n",
       "    <tr>\n",
       "      <th>Pologne</th>\n",
       "      <td>8168.4</td>\n",
       "      <td>25397.1</td>\n",
       "    </tr>\n",
       "    <tr>\n",
       "      <th>Portugal</th>\n",
       "      <td>2108.6</td>\n",
       "      <td>10575.5</td>\n",
       "    </tr>\n",
       "    <tr>\n",
       "      <th>RepTcheque</th>\n",
       "      <td>1855.4</td>\n",
       "      <td>8648.5</td>\n",
       "    </tr>\n",
       "    <tr>\n",
       "      <th>Roumanie</th>\n",
       "      <td>3903.5</td>\n",
       "      <td>9486.1</td>\n",
       "    </tr>\n",
       "    <tr>\n",
       "      <th>RoyaumeUni</th>\n",
       "      <td>12670.5</td>\n",
       "      <td>91829.7</td>\n",
       "    </tr>\n",
       "    <tr>\n",
       "      <th>Slovaquie</th>\n",
       "      <td>1059.4</td>\n",
       "      <td>3288.2</td>\n",
       "    </tr>\n",
       "    <tr>\n",
       "      <th>Slovenie</th>\n",
       "      <td>387.9</td>\n",
       "      <td>2314.0</td>\n",
       "    </tr>\n",
       "    <tr>\n",
       "      <th>Suede</th>\n",
       "      <td>2022.8</td>\n",
       "      <td>18715.7</td>\n",
       "    </tr>\n",
       "  </tbody>\n",
       "</table>\n",
       "</div>"
      ],
      "text/plain": [
       "            nbEleves  Depenses\n",
       "Allemagne    14065.4  106626.4\n",
       "Autriche      1467.8   13722.8\n",
       "Belgique      2427.7   18427.4\n",
       "Bulgarie      1141.8    2968.0\n",
       "Danemark      1151.6   12909.4\n",
       "Espagne       7615.3   51025.8\n",
       "Estonie        257.5    1116.1\n",
       "Finlande      1251.3    9177.7\n",
       "France       12264.6   96315.8\n",
       "Hongrie       1873.0    8160.8\n",
       "Irlande       1053.4    7873.1\n",
       "Italie        9510.4   65641.2\n",
       "Lettonie       430.6    1579.4\n",
       "Lituanie       738.0    2325.9\n",
       "Luxembourg      80.2    1035.9\n",
       "Malte           74.0     492.9\n",
       "PaysBas       3379.7   28686.1\n",
       "Pologne       8168.4   25397.1\n",
       "Portugal      2108.6   10575.5\n",
       "RepTcheque    1855.4    8648.5\n",
       "Roumanie      3903.5    9486.1\n",
       "RoyaumeUni   12670.5   91829.7\n",
       "Slovaquie     1059.4    3288.2\n",
       "Slovenie       387.9    2314.0\n",
       "Suede         2022.8   18715.7"
      ]
     },
     "execution_count": 49,
     "metadata": {},
     "output_type": "execute_result"
    }
   ],
   "source": [
    "df_propre"
   ]
  },
  {
   "cell_type": "code",
   "execution_count": 50,
   "metadata": {},
   "outputs": [
    {
     "name": "stdout",
     "output_type": "stream",
     "text": [
      "Coefficient: 7.1536207028714145\n",
      "Intercept: -2093.8101915336156\n"
     ]
    }
   ],
   "source": [
    "# On effectue une régression lineaire sur les données. \n",
    "RegLineaire = LinearRegression().fit(df_propre[['nbEleves']], df_propre['Depenses']) #['nbEleves'], df_propre['Depenses'])\n",
    "# Afficher le coefficient et l'intercept\n",
    "print(\"Coefficient:\", RegLineaire.coef_[0])\n",
    "print(\"Intercept:\", RegLineaire.intercept_)"
   ]
  },
  {
   "cell_type": "code",
   "execution_count": 51,
   "metadata": {},
   "outputs": [
    {
     "data": {
      "image/png": "[encoded data removed]",
      "text/plain": [
       "<Figure size 432x288 with 1 Axes>"
      ]
     },
     "metadata": {
      "needs_background": "light"
     },
     "output_type": "display_data"
    }
   ],
   "source": [
    "# réalise un graphique pour les résultats de la régression linéaire. \n",
    "df_propre['y_pred'] = RegLineaire.predict(df_propre[['nbEleves']])\n",
    "\n",
    "plt.scatter(df_propre['nbEleves'], df_propre['Depenses'], color='blue', label='Données')\n",
    "plt.plot(df_propre['nbEleves'], df_propre['y_pred'], color='red', label='Régression linéaire')\n",
    "plt.title('Régression linéaire')\n",
    "plt.xlabel('nbEleves')\n",
    "plt.ylabel('Depenses')\n",
    "plt.legend()\n",
    "plt.show()"
   ]
  },
  {
   "cell_type": "markdown",
   "metadata": {},
   "source": [
    "On réalise qu'il y as deux pays qui sortent des prédictions : La Roumanie et la Pologne"
   ]
  },
  {
   "cell_type": "code",
   "execution_count": 55,
   "metadata": {},
   "outputs": [
    {
     "data": {
      "text/plain": [
       "LinregressResult(slope=7.153620702871415, intercept=-2093.810191533619, rvalue=0.966056406103996, pvalue=5.13084626980696e-15, stderr=0.39887462128097034, intercept_stderr=2230.1956987465246)"
      ]
     },
     "execution_count": 55,
     "metadata": {},
     "output_type": "execute_result"
    }
   ],
   "source": [
    "# seconde méthode de régression linéaire ; scipy stats\n",
    "lr = linregress(df_propre['nbEleves'], df_propre['Depenses'])\n",
    "lr"
   ]
  },
  {
   "cell_type": "code",
   "execution_count": 59,
   "metadata": {},
   "outputs": [
    {
     "data": {
      "image/png": "[encoded data removed]",
      "text/plain": [
       "<Figure size 432x288 with 1 Axes>"
      ]
     },
     "metadata": {
      "needs_background": "light"
     },
     "output_type": "display_data"
    }
   ],
   "source": [
    "slope, intercept, r_value, p_value, std_err = linregress(df['nbEleves'], df['Depenses'])\n",
    "\n",
    "# Prédiction\n",
    "df_propre['y_pred'] = slope * df_propre['nbEleves'] + intercept\n",
    "\n",
    "# Graphique\n",
    "plt.scatter(df_propre['nbEleves'], df_propre['Depenses'], color='blue', label='Données')\n",
    "plt.plot(df_propre['nbEleves'], df_propre['y_pred'], color='red', label='Régression linéaire')\n",
    "plt.title('Régression linéaire')\n",
    "plt.xlabel('nbEleves')\n",
    "plt.ylabel('Depenses')\n",
    "plt.legend()\n",
    "plt.show()\n",
    "\n"
   ]
  },
  {
   "cell_type": "code",
   "execution_count": null,
   "metadata": {},
   "outputs": [],
   "source": []
  }
 ],
 "metadata": {
  "kernelspec": {
   "display_name": "Python 3",
   "language": "python",
   "name": "python3"
  },
  "language_info": {
   "codemirror_mode": {
    "name": "ipython",
    "version": 3
   },
   "file_extension": ".py",
   "mimetype": "text/x-python",
   "name": "python",
   "nbconvert_exporter": "python",
   "pygments_lexer": "ipython3",
   "version": "3.8.3"
  },
  "orig_nbformat": 4
 },
 "nbformat": 4,
 "nbformat_minor": 2
}
