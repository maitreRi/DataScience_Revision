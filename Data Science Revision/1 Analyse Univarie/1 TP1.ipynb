{
 "cells": [
  {
   "cell_type": "code",
   "execution_count": 1,
   "metadata": {},
   "outputs": [],
   "source": [
    "# Import des packages\n",
    "import pandas as pd\n",
    "import matplotlib.pyplot as plt\n",
    "import numpy as np"
   ]
  },
  {
   "cell_type": "code",
   "execution_count": 2,
   "metadata": {},
   "outputs": [],
   "source": [
    "# Import du DataFrame df\n",
    "df = pd.read_csv(\"Data\\FrenchCities.csv\", sep=\";\", header=0, index_col=0)"
   ]
  },
  {
   "cell_type": "code",
   "execution_count": 3,
   "metadata": {},
   "outputs": [
    {
     "data": {
      "text/html": [
       "<div>\n",
       "<style scoped>\n",
       "    .dataframe tbody tr th:only-of-type {\n",
       "        vertical-align: middle;\n",
       "    }\n",
       "\n",
       "    .dataframe tbody tr th {\n",
       "        vertical-align: top;\n",
       "    }\n",
       "\n",
       "    .dataframe thead th {\n",
       "        text-align: right;\n",
       "    }\n",
       "</style>\n",
       "<table border=\"1\" class=\"dataframe\">\n",
       "  <thead>\n",
       "    <tr style=\"text-align: right;\">\n",
       "      <th></th>\n",
       "      <th>CLIMAT</th>\n",
       "      <th>NO2</th>\n",
       "      <th>DENSITY</th>\n",
       "      <th>JANr</th>\n",
       "      <th>FEBr</th>\n",
       "      <th>MARr</th>\n",
       "      <th>APRr</th>\n",
       "      <th>MAYr</th>\n",
       "      <th>JUNr</th>\n",
       "      <th>JULr</th>\n",
       "      <th>...</th>\n",
       "      <th>SEPdr</th>\n",
       "      <th>OCTdr</th>\n",
       "      <th>NOVdr</th>\n",
       "      <th>DECdr</th>\n",
       "      <th>DAYS_RAINFALL</th>\n",
       "      <th>TEMP</th>\n",
       "      <th>TEMP_RANGE</th>\n",
       "      <th>SUNSHINE</th>\n",
       "      <th>LATITUDE</th>\n",
       "      <th>LONGITUDE</th>\n",
       "    </tr>\n",
       "  </thead>\n",
       "  <tbody>\n",
       "    <tr>\n",
       "      <th>Ajaccio</th>\n",
       "      <td>2</td>\n",
       "      <td>18.5</td>\n",
       "      <td>808</td>\n",
       "      <td>78</td>\n",
       "      <td>69</td>\n",
       "      <td>51</td>\n",
       "      <td>39</td>\n",
       "      <td>43</td>\n",
       "      <td>23</td>\n",
       "      <td>10</td>\n",
       "      <td>...</td>\n",
       "      <td>6</td>\n",
       "      <td>10</td>\n",
       "      <td>11</td>\n",
       "      <td>13</td>\n",
       "      <td>95</td>\n",
       "      <td>14.71</td>\n",
       "      <td>14.5</td>\n",
       "      <td>2811</td>\n",
       "      <td>41.55</td>\n",
       "      <td>8.44</td>\n",
       "    </tr>\n",
       "    <tr>\n",
       "      <th>Angers</th>\n",
       "      <td>3</td>\n",
       "      <td>16.5</td>\n",
       "      <td>3490</td>\n",
       "      <td>65</td>\n",
       "      <td>50</td>\n",
       "      <td>60</td>\n",
       "      <td>45</td>\n",
       "      <td>50</td>\n",
       "      <td>55</td>\n",
       "      <td>35</td>\n",
       "      <td>...</td>\n",
       "      <td>12</td>\n",
       "      <td>13</td>\n",
       "      <td>15</td>\n",
       "      <td>16</td>\n",
       "      <td>154</td>\n",
       "      <td>11.28</td>\n",
       "      <td>14.5</td>\n",
       "      <td>1899</td>\n",
       "      <td>47.28</td>\n",
       "      <td>-0.33</td>\n",
       "    </tr>\n",
       "    <tr>\n",
       "      <th>Angoulme</th>\n",
       "      <td>4</td>\n",
       "      <td>17.0</td>\n",
       "      <td>1923</td>\n",
       "      <td>79</td>\n",
       "      <td>68</td>\n",
       "      <td>64</td>\n",
       "      <td>62</td>\n",
       "      <td>70</td>\n",
       "      <td>58</td>\n",
       "      <td>53</td>\n",
       "      <td>...</td>\n",
       "      <td>12</td>\n",
       "      <td>13</td>\n",
       "      <td>15</td>\n",
       "      <td>16</td>\n",
       "      <td>160</td>\n",
       "      <td>12.02</td>\n",
       "      <td>14.9</td>\n",
       "      <td>1989</td>\n",
       "      <td>45.39</td>\n",
       "      <td>0.09</td>\n",
       "    </tr>\n",
       "    <tr>\n",
       "      <th>Besancon</th>\n",
       "      <td>1</td>\n",
       "      <td>27.3</td>\n",
       "      <td>1789</td>\n",
       "      <td>94</td>\n",
       "      <td>87</td>\n",
       "      <td>75</td>\n",
       "      <td>74</td>\n",
       "      <td>86</td>\n",
       "      <td>107</td>\n",
       "      <td>80</td>\n",
       "      <td>...</td>\n",
       "      <td>13</td>\n",
       "      <td>14</td>\n",
       "      <td>15</td>\n",
       "      <td>15</td>\n",
       "      <td>169</td>\n",
       "      <td>10.04</td>\n",
       "      <td>17.6</td>\n",
       "      <td>1897</td>\n",
       "      <td>47.15</td>\n",
       "      <td>6.02</td>\n",
       "    </tr>\n",
       "    <tr>\n",
       "      <th>Biarritz</th>\n",
       "      <td>3</td>\n",
       "      <td>16.0</td>\n",
       "      <td>2172</td>\n",
       "      <td>128</td>\n",
       "      <td>105</td>\n",
       "      <td>98</td>\n",
       "      <td>102</td>\n",
       "      <td>100</td>\n",
       "      <td>91</td>\n",
       "      <td>69</td>\n",
       "      <td>...</td>\n",
       "      <td>14</td>\n",
       "      <td>15</td>\n",
       "      <td>16</td>\n",
       "      <td>17</td>\n",
       "      <td>177</td>\n",
       "      <td>13.58</td>\n",
       "      <td>12.3</td>\n",
       "      <td>1921</td>\n",
       "      <td>43.29</td>\n",
       "      <td>-1.34</td>\n",
       "    </tr>\n",
       "  </tbody>\n",
       "</table>\n",
       "<p>5 rows × 34 columns</p>\n",
       "</div>"
      ],
      "text/plain": [
       "          CLIMAT   NO2  DENSITY  JANr  FEBr  MARr  APRr  MAYr  JUNr  JULr  \\\n",
       "Ajaccio        2  18.5      808    78    69    51    39    43    23    10   \n",
       "Angers         3  16.5     3490    65    50    60    45    50    55    35   \n",
       "Angoulme       4  17.0     1923    79    68    64    62    70    58    53   \n",
       "Besancon       1  27.3     1789    94    87    75    74    86   107    80   \n",
       "Biarritz       3  16.0     2172   128   105    98   102   100    91    69   \n",
       "\n",
       "          ...  SEPdr  OCTdr  NOVdr  DECdr  DAYS_RAINFALL   TEMP  TEMP_RANGE  \\\n",
       "Ajaccio   ...      6     10     11     13             95  14.71        14.5   \n",
       "Angers    ...     12     13     15     16            154  11.28        14.5   \n",
       "Angoulme  ...     12     13     15     16            160  12.02        14.9   \n",
       "Besancon  ...     13     14     15     15            169  10.04        17.6   \n",
       "Biarritz  ...     14     15     16     17            177  13.58        12.3   \n",
       "\n",
       "          SUNSHINE  LATITUDE  LONGITUDE  \n",
       "Ajaccio       2811     41.55       8.44  \n",
       "Angers        1899     47.28      -0.33  \n",
       "Angoulme      1989     45.39       0.09  \n",
       "Besancon      1897     47.15       6.02  \n",
       "Biarritz      1921     43.29      -1.34  \n",
       "\n",
       "[5 rows x 34 columns]"
      ]
     },
     "execution_count": 3,
     "metadata": {},
     "output_type": "execute_result"
    }
   ],
   "source": [
    "# Affichage du header (5 première lignes)\n",
    "df.head()"
   ]
  },
  {
   "cell_type": "code",
   "execution_count": 4,
   "metadata": {},
   "outputs": [
    {
     "data": {
      "text/plain": [
       "Index(['CLIMAT', 'NO2', 'DENSITY', 'JANr', 'FEBr', 'MARr', 'APRr', 'MAYr',\n",
       "       'JUNr', 'JULr', 'AUGr', 'SEPr', 'OCTr', 'NOVr', 'DECr', 'RAINFALL',\n",
       "       'JANdr', 'FEVdr', 'MARdr', 'APRdr', 'MAYdr', 'JUNdr', 'JULdr', 'AUGdr',\n",
       "       'SEPdr', 'OCTdr', 'NOVdr', 'DECdr', 'DAYS_RAINFALL', 'TEMP',\n",
       "       'TEMP_RANGE', 'SUNSHINE', 'LATITUDE', 'LONGITUDE'],\n",
       "      dtype='object')"
      ]
     },
     "execution_count": 4,
     "metadata": {},
     "output_type": "execute_result"
    }
   ],
   "source": [
    "# Affichage des colonnes du dataframe\n",
    "df.columns"
   ]
  },
  {
   "cell_type": "code",
   "execution_count": 5,
   "metadata": {},
   "outputs": [
    {
     "data": {
      "text/plain": [
       "Ajaccio     18.5\n",
       "Angers      16.5\n",
       "Angoulme    17.0\n",
       "Besancon    27.3\n",
       "Biarritz    16.0\n",
       "Name: NO2, dtype: float64"
      ]
     },
     "execution_count": 5,
     "metadata": {},
     "output_type": "execute_result"
    }
   ],
   "source": [
    "# Séléction de la colonne NO2\n",
    "NO2 = df['NO2']\n",
    "NO2.head()"
   ]
  },
  {
   "cell_type": "code",
   "execution_count": 6,
   "metadata": {},
   "outputs": [
    {
     "data": {
      "text/plain": [
       "Index(['Ajaccio', 'Angers', 'Angoulme', 'Besancon', 'Biarritz', 'Bordeaux',\n",
       "       'Brest', 'Caen', 'Clermont_Fd', 'Dijon', 'Grenoble', 'Lille', 'Limoges',\n",
       "       'Lyon', 'Marseille', 'Montpellier', 'Nancy', 'Nantes', 'Nice', 'Nimes',\n",
       "       'Orleans', 'Paris', 'Perpignan', 'Poitiers', 'Reims', 'Rennes', 'Rouen',\n",
       "       'Strasbourg', 'Toulon', 'Toulouse', 'Tours', 'Error'],\n",
       "      dtype='object')"
      ]
     },
     "execution_count": 6,
     "metadata": {},
     "output_type": "execute_result"
    }
   ],
   "source": [
    "# Affichage de l'index du df\n",
    "df.index"
   ]
  },
  {
   "cell_type": "code",
   "execution_count": 7,
   "metadata": {},
   "outputs": [
    {
     "data": {
      "text/plain": [
       "CLIMAT       2.0\n",
       "NO2         18.5\n",
       "DENSITY    808.0\n",
       "JANr        78.0\n",
       "FEBr        69.0\n",
       "Name: Ajaccio, dtype: float64"
      ]
     },
     "execution_count": 7,
     "metadata": {},
     "output_type": "execute_result"
    }
   ],
   "source": [
    "# Affichage des 5 premières colonnes de la ville d'Ajaccio\n",
    "df.loc['Ajaccio'].head()"
   ]
  },
  {
   "cell_type": "code",
   "execution_count": 8,
   "metadata": {},
   "outputs": [
    {
     "data": {
      "text/html": [
       "<div>\n",
       "<style scoped>\n",
       "    .dataframe tbody tr th:only-of-type {\n",
       "        vertical-align: middle;\n",
       "    }\n",
       "\n",
       "    .dataframe tbody tr th {\n",
       "        vertical-align: top;\n",
       "    }\n",
       "\n",
       "    .dataframe thead th {\n",
       "        text-align: right;\n",
       "    }\n",
       "</style>\n",
       "<table border=\"1\" class=\"dataframe\">\n",
       "  <thead>\n",
       "    <tr style=\"text-align: right;\">\n",
       "      <th></th>\n",
       "      <th>CLIMAT</th>\n",
       "      <th>NO2</th>\n",
       "      <th>DENSITY</th>\n",
       "      <th>JANr</th>\n",
       "      <th>FEBr</th>\n",
       "      <th>MARr</th>\n",
       "      <th>APRr</th>\n",
       "      <th>MAYr</th>\n",
       "      <th>JUNr</th>\n",
       "      <th>JULr</th>\n",
       "      <th>...</th>\n",
       "      <th>SEPdr</th>\n",
       "      <th>OCTdr</th>\n",
       "      <th>NOVdr</th>\n",
       "      <th>DECdr</th>\n",
       "      <th>DAYS_RAINFALL</th>\n",
       "      <th>TEMP</th>\n",
       "      <th>TEMP_RANGE</th>\n",
       "      <th>SUNSHINE</th>\n",
       "      <th>LATITUDE</th>\n",
       "      <th>LONGITUDE</th>\n",
       "    </tr>\n",
       "  </thead>\n",
       "  <tbody>\n",
       "    <tr>\n",
       "      <th>Dijon</th>\n",
       "      <td>1</td>\n",
       "      <td>24.7</td>\n",
       "      <td>3763</td>\n",
       "      <td>62</td>\n",
       "      <td>48</td>\n",
       "      <td>51</td>\n",
       "      <td>48</td>\n",
       "      <td>68</td>\n",
       "      <td>79</td>\n",
       "      <td>44</td>\n",
       "      <td>...</td>\n",
       "      <td>11</td>\n",
       "      <td>12</td>\n",
       "      <td>14</td>\n",
       "      <td>14</td>\n",
       "      <td>147</td>\n",
       "      <td>10.50</td>\n",
       "      <td>18.3</td>\n",
       "      <td>1934</td>\n",
       "      <td>47.19</td>\n",
       "      <td>5.01</td>\n",
       "    </tr>\n",
       "    <tr>\n",
       "      <th>Grenoble</th>\n",
       "      <td>1</td>\n",
       "      <td>35.0</td>\n",
       "      <td>8734</td>\n",
       "      <td>80</td>\n",
       "      <td>79</td>\n",
       "      <td>69</td>\n",
       "      <td>69</td>\n",
       "      <td>83</td>\n",
       "      <td>94</td>\n",
       "      <td>74</td>\n",
       "      <td>...</td>\n",
       "      <td>11</td>\n",
       "      <td>12</td>\n",
       "      <td>13</td>\n",
       "      <td>14</td>\n",
       "      <td>144</td>\n",
       "      <td>10.98</td>\n",
       "      <td>18.6</td>\n",
       "      <td>2100</td>\n",
       "      <td>45.10</td>\n",
       "      <td>5.43</td>\n",
       "    </tr>\n",
       "    <tr>\n",
       "      <th>Lille</th>\n",
       "      <td>3</td>\n",
       "      <td>25.8</td>\n",
       "      <td>6565</td>\n",
       "      <td>45</td>\n",
       "      <td>43</td>\n",
       "      <td>38</td>\n",
       "      <td>37</td>\n",
       "      <td>45</td>\n",
       "      <td>57</td>\n",
       "      <td>62</td>\n",
       "      <td>...</td>\n",
       "      <td>14</td>\n",
       "      <td>14</td>\n",
       "      <td>16</td>\n",
       "      <td>17</td>\n",
       "      <td>171</td>\n",
       "      <td>9.73</td>\n",
       "      <td>14.7</td>\n",
       "      <td>1641</td>\n",
       "      <td>50.38</td>\n",
       "      <td>3.04</td>\n",
       "    </tr>\n",
       "  </tbody>\n",
       "</table>\n",
       "<p>3 rows × 34 columns</p>\n",
       "</div>"
      ],
      "text/plain": [
       "          CLIMAT   NO2  DENSITY  JANr  FEBr  MARr  APRr  MAYr  JUNr  JULr  \\\n",
       "Dijon          1  24.7     3763    62    48    51    48    68    79    44   \n",
       "Grenoble       1  35.0     8734    80    79    69    69    83    94    74   \n",
       "Lille          3  25.8     6565    45    43    38    37    45    57    62   \n",
       "\n",
       "          ...  SEPdr  OCTdr  NOVdr  DECdr  DAYS_RAINFALL   TEMP  TEMP_RANGE  \\\n",
       "Dijon     ...     11     12     14     14            147  10.50        18.3   \n",
       "Grenoble  ...     11     12     13     14            144  10.98        18.6   \n",
       "Lille     ...     14     14     16     17            171   9.73        14.7   \n",
       "\n",
       "          SUNSHINE  LATITUDE  LONGITUDE  \n",
       "Dijon         1934     47.19       5.01  \n",
       "Grenoble      2100     45.10       5.43  \n",
       "Lille         1641     50.38       3.04  \n",
       "\n",
       "[3 rows x 34 columns]"
      ]
     },
     "execution_count": 8,
     "metadata": {},
     "output_type": "execute_result"
    }
   ],
   "source": [
    "# Affichage des lignes de 10 à 12\n",
    "df.iloc[9:12]"
   ]
  },
  {
   "cell_type": "code",
   "execution_count": 9,
   "metadata": {},
   "outputs": [
    {
     "data": {
      "text/html": [
       "<div>\n",
       "<style scoped>\n",
       "    .dataframe tbody tr th:only-of-type {\n",
       "        vertical-align: middle;\n",
       "    }\n",
       "\n",
       "    .dataframe tbody tr th {\n",
       "        vertical-align: top;\n",
       "    }\n",
       "\n",
       "    .dataframe thead th {\n",
       "        text-align: right;\n",
       "    }\n",
       "</style>\n",
       "<table border=\"1\" class=\"dataframe\">\n",
       "  <thead>\n",
       "    <tr style=\"text-align: right;\">\n",
       "      <th></th>\n",
       "      <th>CLIMAT</th>\n",
       "      <th>DENSITY</th>\n",
       "      <th>JANr</th>\n",
       "      <th>MARr</th>\n",
       "      <th>APRr</th>\n",
       "      <th>JUNr</th>\n",
       "      <th>JULr</th>\n",
       "      <th>AUGr</th>\n",
       "      <th>SEPr</th>\n",
       "      <th>OCTr</th>\n",
       "      <th>...</th>\n",
       "      <th>SEPdr</th>\n",
       "      <th>OCTdr</th>\n",
       "      <th>NOVdr</th>\n",
       "      <th>DECdr</th>\n",
       "      <th>DAYS_RAINFALL</th>\n",
       "      <th>TEMP</th>\n",
       "      <th>TEMP_RANGE</th>\n",
       "      <th>SUNSHINE</th>\n",
       "      <th>LATITUDE</th>\n",
       "      <th>LONGITUDE</th>\n",
       "    </tr>\n",
       "  </thead>\n",
       "  <tbody>\n",
       "    <tr>\n",
       "      <th>Ajaccio</th>\n",
       "      <td>2</td>\n",
       "      <td>808</td>\n",
       "      <td>78</td>\n",
       "      <td>51</td>\n",
       "      <td>39</td>\n",
       "      <td>23</td>\n",
       "      <td>10</td>\n",
       "      <td>15</td>\n",
       "      <td>43</td>\n",
       "      <td>81</td>\n",
       "      <td>...</td>\n",
       "      <td>6</td>\n",
       "      <td>10</td>\n",
       "      <td>11</td>\n",
       "      <td>13</td>\n",
       "      <td>95</td>\n",
       "      <td>14.71</td>\n",
       "      <td>14.5</td>\n",
       "      <td>2811</td>\n",
       "      <td>41.55</td>\n",
       "      <td>8.44</td>\n",
       "    </tr>\n",
       "    <tr>\n",
       "      <th>Angers</th>\n",
       "      <td>3</td>\n",
       "      <td>3490</td>\n",
       "      <td>65</td>\n",
       "      <td>60</td>\n",
       "      <td>45</td>\n",
       "      <td>55</td>\n",
       "      <td>35</td>\n",
       "      <td>60</td>\n",
       "      <td>55</td>\n",
       "      <td>65</td>\n",
       "      <td>...</td>\n",
       "      <td>12</td>\n",
       "      <td>13</td>\n",
       "      <td>15</td>\n",
       "      <td>16</td>\n",
       "      <td>154</td>\n",
       "      <td>11.28</td>\n",
       "      <td>14.5</td>\n",
       "      <td>1899</td>\n",
       "      <td>47.28</td>\n",
       "      <td>-0.33</td>\n",
       "    </tr>\n",
       "    <tr>\n",
       "      <th>Angoulme</th>\n",
       "      <td>4</td>\n",
       "      <td>1923</td>\n",
       "      <td>79</td>\n",
       "      <td>64</td>\n",
       "      <td>62</td>\n",
       "      <td>58</td>\n",
       "      <td>53</td>\n",
       "      <td>66</td>\n",
       "      <td>69</td>\n",
       "      <td>70</td>\n",
       "      <td>...</td>\n",
       "      <td>12</td>\n",
       "      <td>13</td>\n",
       "      <td>15</td>\n",
       "      <td>16</td>\n",
       "      <td>160</td>\n",
       "      <td>12.02</td>\n",
       "      <td>14.9</td>\n",
       "      <td>1989</td>\n",
       "      <td>45.39</td>\n",
       "      <td>0.09</td>\n",
       "    </tr>\n",
       "    <tr>\n",
       "      <th>Besancon</th>\n",
       "      <td>1</td>\n",
       "      <td>1789</td>\n",
       "      <td>94</td>\n",
       "      <td>75</td>\n",
       "      <td>74</td>\n",
       "      <td>107</td>\n",
       "      <td>80</td>\n",
       "      <td>116</td>\n",
       "      <td>106</td>\n",
       "      <td>78</td>\n",
       "      <td>...</td>\n",
       "      <td>13</td>\n",
       "      <td>14</td>\n",
       "      <td>15</td>\n",
       "      <td>15</td>\n",
       "      <td>169</td>\n",
       "      <td>10.04</td>\n",
       "      <td>17.6</td>\n",
       "      <td>1897</td>\n",
       "      <td>47.15</td>\n",
       "      <td>6.02</td>\n",
       "    </tr>\n",
       "    <tr>\n",
       "      <th>Biarritz</th>\n",
       "      <td>3</td>\n",
       "      <td>2172</td>\n",
       "      <td>128</td>\n",
       "      <td>98</td>\n",
       "      <td>102</td>\n",
       "      <td>91</td>\n",
       "      <td>69</td>\n",
       "      <td>123</td>\n",
       "      <td>155</td>\n",
       "      <td>152</td>\n",
       "      <td>...</td>\n",
       "      <td>14</td>\n",
       "      <td>15</td>\n",
       "      <td>16</td>\n",
       "      <td>17</td>\n",
       "      <td>177</td>\n",
       "      <td>13.58</td>\n",
       "      <td>12.3</td>\n",
       "      <td>1921</td>\n",
       "      <td>43.29</td>\n",
       "      <td>-1.34</td>\n",
       "    </tr>\n",
       "  </tbody>\n",
       "</table>\n",
       "<p>5 rows × 31 columns</p>\n",
       "</div>"
      ],
      "text/plain": [
       "          CLIMAT  DENSITY  JANr  MARr  APRr  JUNr  JULr  AUGr  SEPr  OCTr  \\\n",
       "Ajaccio        2      808    78    51    39    23    10    15    43    81   \n",
       "Angers         3     3490    65    60    45    55    35    60    55    65   \n",
       "Angoulme       4     1923    79    64    62    58    53    66    69    70   \n",
       "Besancon       1     1789    94    75    74   107    80   116   106    78   \n",
       "Biarritz       3     2172   128    98   102    91    69   123   155   152   \n",
       "\n",
       "          ...  SEPdr  OCTdr  NOVdr  DECdr  DAYS_RAINFALL   TEMP  TEMP_RANGE  \\\n",
       "Ajaccio   ...      6     10     11     13             95  14.71        14.5   \n",
       "Angers    ...     12     13     15     16            154  11.28        14.5   \n",
       "Angoulme  ...     12     13     15     16            160  12.02        14.9   \n",
       "Besancon  ...     13     14     15     15            169  10.04        17.6   \n",
       "Biarritz  ...     14     15     16     17            177  13.58        12.3   \n",
       "\n",
       "          SUNSHINE  LATITUDE  LONGITUDE  \n",
       "Ajaccio       2811     41.55       8.44  \n",
       "Angers        1899     47.28      -0.33  \n",
       "Angoulme      1989     45.39       0.09  \n",
       "Besancon      1897     47.15       6.02  \n",
       "Biarritz      1921     43.29      -1.34  \n",
       "\n",
       "[5 rows x 31 columns]"
      ]
     },
     "execution_count": 9,
     "metadata": {},
     "output_type": "execute_result"
    }
   ],
   "source": [
    "# retrait des colonnes 1,4 et 7\n",
    "df.drop(df.columns[[1,4,7]], axis = 1).head()"
   ]
  },
  {
   "cell_type": "code",
   "execution_count": 10,
   "metadata": {},
   "outputs": [
    {
     "data": {
      "text/html": [
       "<div>\n",
       "<style scoped>\n",
       "    .dataframe tbody tr th:only-of-type {\n",
       "        vertical-align: middle;\n",
       "    }\n",
       "\n",
       "    .dataframe tbody tr th {\n",
       "        vertical-align: top;\n",
       "    }\n",
       "\n",
       "    .dataframe thead th {\n",
       "        text-align: right;\n",
       "    }\n",
       "</style>\n",
       "<table border=\"1\" class=\"dataframe\">\n",
       "  <thead>\n",
       "    <tr style=\"text-align: right;\">\n",
       "      <th></th>\n",
       "      <th>CLIMAT</th>\n",
       "      <th>NO2</th>\n",
       "      <th>DENSITY</th>\n",
       "      <th>JANr</th>\n",
       "      <th>FEBr</th>\n",
       "      <th>MARr</th>\n",
       "      <th>APRr</th>\n",
       "      <th>MAYr</th>\n",
       "      <th>JUNr</th>\n",
       "      <th>JULr</th>\n",
       "      <th>...</th>\n",
       "      <th>SEPdr</th>\n",
       "      <th>OCTdr</th>\n",
       "      <th>NOVdr</th>\n",
       "      <th>DECdr</th>\n",
       "      <th>DAYS_RAINFALL</th>\n",
       "      <th>TEMP</th>\n",
       "      <th>TEMP_RANGE</th>\n",
       "      <th>SUNSHINE</th>\n",
       "      <th>LATITUDE</th>\n",
       "      <th>LONGITUDE</th>\n",
       "    </tr>\n",
       "  </thead>\n",
       "  <tbody>\n",
       "    <tr>\n",
       "      <th>Marseille</th>\n",
       "      <td>2</td>\n",
       "      <td>55.5</td>\n",
       "      <td>3543</td>\n",
       "      <td>36</td>\n",
       "      <td>49</td>\n",
       "      <td>40</td>\n",
       "      <td>35</td>\n",
       "      <td>38</td>\n",
       "      <td>33</td>\n",
       "      <td>13</td>\n",
       "      <td>...</td>\n",
       "      <td>6</td>\n",
       "      <td>8</td>\n",
       "      <td>8</td>\n",
       "      <td>10</td>\n",
       "      <td>76</td>\n",
       "      <td>14.23</td>\n",
       "      <td>17.8</td>\n",
       "      <td>2866</td>\n",
       "      <td>43.18</td>\n",
       "      <td>5.24</td>\n",
       "    </tr>\n",
       "    <tr>\n",
       "      <th>Paris</th>\n",
       "      <td>4</td>\n",
       "      <td>58.4</td>\n",
       "      <td>21258</td>\n",
       "      <td>53</td>\n",
       "      <td>48</td>\n",
       "      <td>40</td>\n",
       "      <td>45</td>\n",
       "      <td>53</td>\n",
       "      <td>57</td>\n",
       "      <td>54</td>\n",
       "      <td>...</td>\n",
       "      <td>13</td>\n",
       "      <td>13</td>\n",
       "      <td>15</td>\n",
       "      <td>16</td>\n",
       "      <td>162</td>\n",
       "      <td>11.18</td>\n",
       "      <td>15.7</td>\n",
       "      <td>1814</td>\n",
       "      <td>48.52</td>\n",
       "      <td>2.20</td>\n",
       "    </tr>\n",
       "  </tbody>\n",
       "</table>\n",
       "<p>2 rows × 34 columns</p>\n",
       "</div>"
      ],
      "text/plain": [
       "           CLIMAT   NO2  DENSITY  JANr  FEBr  MARr  APRr  MAYr  JUNr  JULr  \\\n",
       "Marseille       2  55.5     3543    36    49    40    35    38    33    13   \n",
       "Paris           4  58.4    21258    53    48    40    45    53    57    54   \n",
       "\n",
       "           ...  SEPdr  OCTdr  NOVdr  DECdr  DAYS_RAINFALL   TEMP  TEMP_RANGE  \\\n",
       "Marseille  ...      6      8      8     10             76  14.23        17.8   \n",
       "Paris      ...     13     13     15     16            162  11.18        15.7   \n",
       "\n",
       "           SUNSHINE  LATITUDE  LONGITUDE  \n",
       "Marseille      2866     43.18       5.24  \n",
       "Paris          1814     48.52       2.20  \n",
       "\n",
       "[2 rows x 34 columns]"
      ]
     },
     "execution_count": 10,
     "metadata": {},
     "output_type": "execute_result"
    }
   ],
   "source": [
    "# Selection des lignes dont le NO2 est > 50\n",
    "df_N02_spe = df[NO2>50]\n",
    "df_N02_spe"
   ]
  },
  {
   "cell_type": "code",
   "execution_count": 11,
   "metadata": {},
   "outputs": [
    {
     "data": {
      "text/plain": [
       "CLIMAT         4.0\n",
       "NO2           58.4\n",
       "DENSITY    21258.0\n",
       "JANr          53.0\n",
       "FEBr          48.0\n",
       "Name: Paris, dtype: float64"
      ]
     },
     "execution_count": 11,
     "metadata": {},
     "output_type": "execute_result"
    }
   ],
   "source": [
    "# Selection de la ligne 'PARIS'\n",
    "Paris = df.loc['Paris']\n",
    "Paris.head()"
   ]
  },
  {
   "cell_type": "code",
   "execution_count": 12,
   "metadata": {},
   "outputs": [
    {
     "data": {
      "text/html": [
       "<div>\n",
       "<style scoped>\n",
       "    .dataframe tbody tr th:only-of-type {\n",
       "        vertical-align: middle;\n",
       "    }\n",
       "\n",
       "    .dataframe tbody tr th {\n",
       "        vertical-align: top;\n",
       "    }\n",
       "\n",
       "    .dataframe thead th {\n",
       "        text-align: right;\n",
       "    }\n",
       "</style>\n",
       "<table border=\"1\" class=\"dataframe\">\n",
       "  <thead>\n",
       "    <tr style=\"text-align: right;\">\n",
       "      <th></th>\n",
       "      <th>count</th>\n",
       "      <th>mean</th>\n",
       "      <th>std</th>\n",
       "      <th>min</th>\n",
       "      <th>25%</th>\n",
       "      <th>50%</th>\n",
       "      <th>75%</th>\n",
       "      <th>max</th>\n",
       "    </tr>\n",
       "  </thead>\n",
       "  <tbody>\n",
       "    <tr>\n",
       "      <th>CLIMAT</th>\n",
       "      <td>32.0</td>\n",
       "      <td>2.375000</td>\n",
       "      <td>1.099853</td>\n",
       "      <td>1.0</td>\n",
       "      <td>1.00</td>\n",
       "      <td>2.00</td>\n",
       "      <td>3.00</td>\n",
       "      <td>4.0</td>\n",
       "    </tr>\n",
       "    <tr>\n",
       "      <th>NO2</th>\n",
       "      <td>32.0</td>\n",
       "      <td>29.678125</td>\n",
       "      <td>10.918192</td>\n",
       "      <td>0.0</td>\n",
       "      <td>25.60</td>\n",
       "      <td>28.75</td>\n",
       "      <td>35.10</td>\n",
       "      <td>58.4</td>\n",
       "    </tr>\n",
       "    <tr>\n",
       "      <th>DENSITY</th>\n",
       "      <td>32.0</td>\n",
       "      <td>4364.593750</td>\n",
       "      <td>3769.979848</td>\n",
       "      <td>0.0</td>\n",
       "      <td>2149.25</td>\n",
       "      <td>3840.50</td>\n",
       "      <td>4734.50</td>\n",
       "      <td>21258.0</td>\n",
       "    </tr>\n",
       "    <tr>\n",
       "      <th>JANr</th>\n",
       "      <td>32.0</td>\n",
       "      <td>64.500000</td>\n",
       "      <td>26.370805</td>\n",
       "      <td>0.0</td>\n",
       "      <td>52.75</td>\n",
       "      <td>64.00</td>\n",
       "      <td>78.25</td>\n",
       "      <td>130.0</td>\n",
       "    </tr>\n",
       "    <tr>\n",
       "      <th>FEBr</th>\n",
       "      <td>32.0</td>\n",
       "      <td>59.500000</td>\n",
       "      <td>20.730218</td>\n",
       "      <td>0.0</td>\n",
       "      <td>48.75</td>\n",
       "      <td>56.50</td>\n",
       "      <td>70.50</td>\n",
       "      <td>105.0</td>\n",
       "    </tr>\n",
       "  </tbody>\n",
       "</table>\n",
       "</div>"
      ],
      "text/plain": [
       "         count         mean          std  min      25%      50%      75%  \\\n",
       "CLIMAT    32.0     2.375000     1.099853  1.0     1.00     2.00     3.00   \n",
       "NO2       32.0    29.678125    10.918192  0.0    25.60    28.75    35.10   \n",
       "DENSITY   32.0  4364.593750  3769.979848  0.0  2149.25  3840.50  4734.50   \n",
       "JANr      32.0    64.500000    26.370805  0.0    52.75    64.00    78.25   \n",
       "FEBr      32.0    59.500000    20.730218  0.0    48.75    56.50    70.50   \n",
       "\n",
       "             max  \n",
       "CLIMAT       4.0  \n",
       "NO2         58.4  \n",
       "DENSITY  21258.0  \n",
       "JANr       130.0  \n",
       "FEBr       105.0  "
      ]
     },
     "execution_count": 12,
     "metadata": {},
     "output_type": "execute_result"
    }
   ],
   "source": [
    "# Étude du df avec compte des données, moyenne, écrat type, min, 1Q, mediane, 3Q et max\n",
    "summary = df.describe()\n",
    "summary = summary.transpose()\n",
    "summary.head()"
   ]
  },
  {
   "cell_type": "code",
   "execution_count": 13,
   "metadata": {},
   "outputs": [
    {
     "name": "stdout",
     "output_type": "stream",
     "text": [
      "<class 'pandas.core.frame.DataFrame'>\n",
      "Index: 32 entries, Ajaccio to Error\n",
      "Data columns (total 34 columns):\n",
      " #   Column         Non-Null Count  Dtype  \n",
      "---  ------         --------------  -----  \n",
      " 0   CLIMAT         32 non-null     int64  \n",
      " 1   NO2            32 non-null     float64\n",
      " 2   DENSITY        32 non-null     int64  \n",
      " 3   JANr           32 non-null     int64  \n",
      " 4   FEBr           32 non-null     int64  \n",
      " 5   MARr           32 non-null     int64  \n",
      " 6   APRr           32 non-null     int64  \n",
      " 7   MAYr           32 non-null     int64  \n",
      " 8   JUNr           32 non-null     int64  \n",
      " 9   JULr           32 non-null     int64  \n",
      " 10  AUGr           32 non-null     int64  \n",
      " 11  SEPr           32 non-null     int64  \n",
      " 12  OCTr           32 non-null     int64  \n",
      " 13  NOVr           32 non-null     int64  \n",
      " 14  DECr           32 non-null     int64  \n",
      " 15  RAINFALL       32 non-null     int64  \n",
      " 16  JANdr          32 non-null     int64  \n",
      " 17  FEVdr          32 non-null     int64  \n",
      " 18  MARdr          32 non-null     int64  \n",
      " 19  APRdr          32 non-null     int64  \n",
      " 20  MAYdr          32 non-null     int64  \n",
      " 21  JUNdr          32 non-null     int64  \n",
      " 22  JULdr          32 non-null     int64  \n",
      " 23  AUGdr          32 non-null     int64  \n",
      " 24  SEPdr          32 non-null     int64  \n",
      " 25  OCTdr          32 non-null     int64  \n",
      " 26  NOVdr          32 non-null     int64  \n",
      " 27  DECdr          32 non-null     int64  \n",
      " 28  DAYS_RAINFALL  32 non-null     int64  \n",
      " 29  TEMP           32 non-null     float64\n",
      " 30  TEMP_RANGE     32 non-null     float64\n",
      " 31  SUNSHINE       32 non-null     int64  \n",
      " 32  LATITUDE       32 non-null     float64\n",
      " 33  LONGITUDE      32 non-null     float64\n",
      "dtypes: float64(5), int64(29)\n",
      "memory usage: 9.8+ KB\n"
     ]
    }
   ],
   "source": [
    "# Affichages des info des variables du dataframe\n",
    "df.info()"
   ]
  },
  {
   "cell_type": "code",
   "execution_count": 14,
   "metadata": {},
   "outputs": [
    {
     "data": {
      "text/html": [
       "<div>\n",
       "<style scoped>\n",
       "    .dataframe tbody tr th:only-of-type {\n",
       "        vertical-align: middle;\n",
       "    }\n",
       "\n",
       "    .dataframe tbody tr th {\n",
       "        vertical-align: top;\n",
       "    }\n",
       "\n",
       "    .dataframe thead th {\n",
       "        text-align: right;\n",
       "    }\n",
       "</style>\n",
       "<table border=\"1\" class=\"dataframe\">\n",
       "  <thead>\n",
       "    <tr style=\"text-align: right;\">\n",
       "      <th></th>\n",
       "      <th>CLIMAT</th>\n",
       "      <th>NO2</th>\n",
       "      <th>DENSITY</th>\n",
       "      <th>JANr</th>\n",
       "      <th>FEBr</th>\n",
       "      <th>MARr</th>\n",
       "      <th>APRr</th>\n",
       "      <th>MAYr</th>\n",
       "      <th>JUNr</th>\n",
       "      <th>JULr</th>\n",
       "      <th>...</th>\n",
       "      <th>SEPdr</th>\n",
       "      <th>OCTdr</th>\n",
       "      <th>NOVdr</th>\n",
       "      <th>DECdr</th>\n",
       "      <th>DAYS_RAINFALL</th>\n",
       "      <th>TEMP</th>\n",
       "      <th>TEMP_RANGE</th>\n",
       "      <th>SUNSHINE</th>\n",
       "      <th>LATITUDE</th>\n",
       "      <th>LONGITUDE</th>\n",
       "    </tr>\n",
       "  </thead>\n",
       "  <tbody>\n",
       "    <tr>\n",
       "      <th>Ajaccio</th>\n",
       "      <td>MED</td>\n",
       "      <td>18.5</td>\n",
       "      <td>808</td>\n",
       "      <td>78</td>\n",
       "      <td>69</td>\n",
       "      <td>51</td>\n",
       "      <td>39</td>\n",
       "      <td>43</td>\n",
       "      <td>23</td>\n",
       "      <td>10</td>\n",
       "      <td>...</td>\n",
       "      <td>6</td>\n",
       "      <td>10</td>\n",
       "      <td>11</td>\n",
       "      <td>13</td>\n",
       "      <td>95</td>\n",
       "      <td>14.71</td>\n",
       "      <td>14.5</td>\n",
       "      <td>2811</td>\n",
       "      <td>41.55</td>\n",
       "      <td>8.44</td>\n",
       "    </tr>\n",
       "    <tr>\n",
       "      <th>Angers</th>\n",
       "      <td>OCEAN</td>\n",
       "      <td>16.5</td>\n",
       "      <td>3490</td>\n",
       "      <td>65</td>\n",
       "      <td>50</td>\n",
       "      <td>60</td>\n",
       "      <td>45</td>\n",
       "      <td>50</td>\n",
       "      <td>55</td>\n",
       "      <td>35</td>\n",
       "      <td>...</td>\n",
       "      <td>12</td>\n",
       "      <td>13</td>\n",
       "      <td>15</td>\n",
       "      <td>16</td>\n",
       "      <td>154</td>\n",
       "      <td>11.28</td>\n",
       "      <td>14.5</td>\n",
       "      <td>1899</td>\n",
       "      <td>47.28</td>\n",
       "      <td>-0.33</td>\n",
       "    </tr>\n",
       "    <tr>\n",
       "      <th>Angoulme</th>\n",
       "      <td>SEMI-OCEAN</td>\n",
       "      <td>17.0</td>\n",
       "      <td>1923</td>\n",
       "      <td>79</td>\n",
       "      <td>68</td>\n",
       "      <td>64</td>\n",
       "      <td>62</td>\n",
       "      <td>70</td>\n",
       "      <td>58</td>\n",
       "      <td>53</td>\n",
       "      <td>...</td>\n",
       "      <td>12</td>\n",
       "      <td>13</td>\n",
       "      <td>15</td>\n",
       "      <td>16</td>\n",
       "      <td>160</td>\n",
       "      <td>12.02</td>\n",
       "      <td>14.9</td>\n",
       "      <td>1989</td>\n",
       "      <td>45.39</td>\n",
       "      <td>0.09</td>\n",
       "    </tr>\n",
       "    <tr>\n",
       "      <th>Besancon</th>\n",
       "      <td>CONT</td>\n",
       "      <td>27.3</td>\n",
       "      <td>1789</td>\n",
       "      <td>94</td>\n",
       "      <td>87</td>\n",
       "      <td>75</td>\n",
       "      <td>74</td>\n",
       "      <td>86</td>\n",
       "      <td>107</td>\n",
       "      <td>80</td>\n",
       "      <td>...</td>\n",
       "      <td>13</td>\n",
       "      <td>14</td>\n",
       "      <td>15</td>\n",
       "      <td>15</td>\n",
       "      <td>169</td>\n",
       "      <td>10.04</td>\n",
       "      <td>17.6</td>\n",
       "      <td>1897</td>\n",
       "      <td>47.15</td>\n",
       "      <td>6.02</td>\n",
       "    </tr>\n",
       "    <tr>\n",
       "      <th>Biarritz</th>\n",
       "      <td>OCEAN</td>\n",
       "      <td>16.0</td>\n",
       "      <td>2172</td>\n",
       "      <td>128</td>\n",
       "      <td>105</td>\n",
       "      <td>98</td>\n",
       "      <td>102</td>\n",
       "      <td>100</td>\n",
       "      <td>91</td>\n",
       "      <td>69</td>\n",
       "      <td>...</td>\n",
       "      <td>14</td>\n",
       "      <td>15</td>\n",
       "      <td>16</td>\n",
       "      <td>17</td>\n",
       "      <td>177</td>\n",
       "      <td>13.58</td>\n",
       "      <td>12.3</td>\n",
       "      <td>1921</td>\n",
       "      <td>43.29</td>\n",
       "      <td>-1.34</td>\n",
       "    </tr>\n",
       "  </tbody>\n",
       "</table>\n",
       "<p>5 rows × 34 columns</p>\n",
       "</div>"
      ],
      "text/plain": [
       "              CLIMAT   NO2  DENSITY  JANr  FEBr  MARr  APRr  MAYr  JUNr  JULr  \\\n",
       "Ajaccio          MED  18.5      808    78    69    51    39    43    23    10   \n",
       "Angers         OCEAN  16.5     3490    65    50    60    45    50    55    35   \n",
       "Angoulme  SEMI-OCEAN  17.0     1923    79    68    64    62    70    58    53   \n",
       "Besancon        CONT  27.3     1789    94    87    75    74    86   107    80   \n",
       "Biarritz       OCEAN  16.0     2172   128   105    98   102   100    91    69   \n",
       "\n",
       "          ...  SEPdr  OCTdr  NOVdr  DECdr  DAYS_RAINFALL   TEMP  TEMP_RANGE  \\\n",
       "Ajaccio   ...      6     10     11     13             95  14.71        14.5   \n",
       "Angers    ...     12     13     15     16            154  11.28        14.5   \n",
       "Angoulme  ...     12     13     15     16            160  12.02        14.9   \n",
       "Besancon  ...     13     14     15     15            169  10.04        17.6   \n",
       "Biarritz  ...     14     15     16     17            177  13.58        12.3   \n",
       "\n",
       "          SUNSHINE  LATITUDE  LONGITUDE  \n",
       "Ajaccio       2811     41.55       8.44  \n",
       "Angers        1899     47.28      -0.33  \n",
       "Angoulme      1989     45.39       0.09  \n",
       "Besancon      1897     47.15       6.02  \n",
       "Biarritz      1921     43.29      -1.34  \n",
       "\n",
       "[5 rows x 34 columns]"
      ]
     },
     "execution_count": 14,
     "metadata": {},
     "output_type": "execute_result"
    }
   ],
   "source": [
    "# Changement du type de la variable CLIMAT du df + remplacement du nom des variables\n",
    "df['CLIMAT'] = df['CLIMAT'].astype(object)\n",
    "type((df['CLIMAT'])[1])\n",
    "df['CLIMAT'] = df['CLIMAT'].replace(1, 'CONT')\n",
    "df['CLIMAT'] = df['CLIMAT'].replace(2, 'MED')\n",
    "df['CLIMAT'] = df['CLIMAT'].replace(3, 'OCEAN')\n",
    "df['CLIMAT'] = df['CLIMAT'].replace(4, 'SEMI-OCEAN')\n",
    "df.head()"
   ]
  },
  {
   "cell_type": "code",
   "execution_count": 15,
   "metadata": {},
   "outputs": [
    {
     "data": {
      "text/plain": [
       "Toulouse          CONT\n",
       "Ajaccio            MED\n",
       "Angers           OCEAN\n",
       "Angoulme    SEMI-OCEAN\n",
       "Name: CLIMAT, dtype: object"
      ]
     },
     "execution_count": 15,
     "metadata": {},
     "output_type": "execute_result"
    }
   ],
   "source": [
    "#Affichage des différents types de climats\n",
    "levels_climat = df['CLIMAT'].sort_values()\n",
    "levels_climat.drop_duplicates()"
   ]
  },
  {
   "cell_type": "code",
   "execution_count": 16,
   "metadata": {},
   "outputs": [
    {
     "data": {
      "text/plain": [
       "29.678125"
      ]
     },
     "execution_count": 16,
     "metadata": {},
     "output_type": "execute_result"
    }
   ],
   "source": [
    "# moyenne des variables NO2\n",
    "NO2.mean()"
   ]
  },
  {
   "cell_type": "code",
   "execution_count": 17,
   "metadata": {},
   "outputs": [
    {
     "data": {
      "text/plain": [
       "0.25    25.60\n",
       "0.50    28.75\n",
       "0.75    35.10\n",
       "Name: NO2, dtype: float64"
      ]
     },
     "execution_count": 17,
     "metadata": {},
     "output_type": "execute_result"
    }
   ],
   "source": [
    "# 1er et 3ieme quartile + médiane de NO2\n",
    "NO2.quantile([0.25,0.5,0.75])"
   ]
  },
  {
   "cell_type": "code",
   "execution_count": 18,
   "metadata": {},
   "outputs": [
    {
     "data": {
      "text/plain": [
       "10.918192405486625"
      ]
     },
     "execution_count": 18,
     "metadata": {},
     "output_type": "execute_result"
    }
   ],
   "source": [
    "# Écart type de NO2\n",
    "NO2.std()"
   ]
  },
  {
   "cell_type": "code",
   "execution_count": 49,
   "metadata": {},
   "outputs": [
    {
     "data": {
      "image/png": "[encoded data removed]",
      "text/plain": [
       "<Figure size 432x288 with 1 Axes>"
      ]
     },
     "metadata": {
      "needs_background": "light"
     },
     "output_type": "display_data"
    }
   ],
   "source": [
    "# Histograme sur TEMP, fonctionne sur variable qualitative, nécéssite classes pour quantitative. (Ici grâce à bins)\n",
    "df.hist(column='TEMP', bins=[9,10,11,12,13,14,15])\n",
    "plt.xlabel('Tranche de température')\n",
    "plt.ylabel('Nombre de villes')\n",
    "plt.title('Histogramme des villes groupées par température')\n",
    "plt.show()"
   ]
  },
  {
   "cell_type": "code",
   "execution_count": 50,
   "metadata": {},
   "outputs": [
    {
     "data": {
      "image/png": "[encoded data removed]",
      "text/plain": [
       "<Figure size 432x288 with 1 Axes>"
      ]
     },
     "metadata": {
      "needs_background": "light"
     },
     "output_type": "display_data"
    }
   ],
   "source": [
    "# Boxplot sur la colonne TEMP. Possible avec des variables quantitatives, non adapté aux variables qualitative\n",
    "df.boxplot(column='TEMP', )\n",
    "plt.ylabel('Température')\n",
    "plt.xlabel('Villes')\n",
    "plt.title('boxplot de la répartition des villes par température')\n",
    "plt.show()"
   ]
  },
  {
   "cell_type": "code",
   "execution_count": 51,
   "metadata": {},
   "outputs": [
    {
     "data": {
      "image/png": "[encoded data removed]",
      "text/plain": [
       "<Figure size 432x288 with 1 Axes>"
      ]
     },
     "metadata": {
      "needs_background": "light"
     },
     "output_type": "display_data"
    }
   ],
   "source": [
    "# Retrait de la valeur exubérante et nouvelle boxplot\n",
    "df0 = df\n",
    "df = df[df['TEMP']>0]\n",
    "df.boxplot(column='TEMP')\n",
    "plt.ylabel('Température')\n",
    "plt.xlabel('Villes')\n",
    "plt.title('boxplot de la répartition des villes par température')\n",
    "plt.show()"
   ]
  },
  {
   "cell_type": "code",
   "execution_count": 56,
   "metadata": {},
   "outputs": [
    {
     "data": {
      "image/png": "[encoded data removed]",
      "text/plain": [
       "<Figure size 432x288 with 1 Axes>"
      ]
     },
     "metadata": {},
     "output_type": "display_data"
    }
   ],
   "source": [
    "# Diagrame de secteur sur les classes de climats créées (autopct= )\n",
    "df.groupby('CLIMAT').size().plot(kind='pie', autopct='%.2f')\n",
    "plt.title('Diagramme de secteur des villes en fonction de leurs climat')\n",
    "plt.show()"
   ]
  },
  {
   "cell_type": "code",
   "execution_count": 64,
   "metadata": {},
   "outputs": [
    {
     "data": {
      "text/plain": [
       "Text(0.5, 1.0, 'Diagramme bâton de la répartition des villes par climat')"
      ]
     },
     "execution_count": 64,
     "metadata": {},
     "output_type": "execute_result"
    },
    {
     "data": {
      "image/png": "[encoded data removed]",
      "text/plain": [
       "<Figure size 432x288 with 1 Axes>"
      ]
     },
     "metadata": {
      "needs_background": "light"
     },
     "output_type": "display_data"
    }
   ],
   "source": [
    "df.groupby('CLIMAT').size().plot(kind='bar')\n",
    "plt.ylabel('Nombre de ville')\n",
    "plt.title('Diagramme bâton de la répartition des villes par climat')"
   ]
  },
  {
   "cell_type": "code",
   "execution_count": 63,
   "metadata": {},
   "outputs": [
    {
     "data": {
      "text/plain": [
       "Text(0.5, 1.0, 'Histogramme des villes selon leurs ensoleillement')"
      ]
     },
     "execution_count": 63,
     "metadata": {},
     "output_type": "execute_result"
    },
    {
     "data": {
      "image/png": "[encoded data removed]",
      "text/plain": [
       "<Figure size 432x288 with 1 Axes>"
      ]
     },
     "metadata": {
      "needs_background": "light"
     },
     "output_type": "display_data"
    }
   ],
   "source": [
    "df.hist(column='SUNSHINE', bins=[0,1793,2085,2917], color = 'blue', ec = 'red')\n",
    "Label = ['Peu', 'modéré', 'très']\n",
    "plt.ylabel('Nombre de ville')\n",
    "plt.ylabel('Ensoleillement')\n",
    "plt.title('Histogramme des villes selon leurs ensoleillement')"
   ]
  },
  {
   "cell_type": "code",
   "execution_count": 62,
   "metadata": {},
   "outputs": [
    {
     "name": "stderr",
     "output_type": "stream",
     "text": [
      "C:\\Users\\CYTECH~1\\AppData\\Local\\Temp/ipykernel_18696/1024174548.py:5: SettingWithCopyWarning: \n",
      "A value is trying to be set on a copy of a slice from a DataFrame.\n",
      "Try using .loc[row_indexer,col_indexer] = value instead\n",
      "\n",
      "See the caveats in the documentation: https://pandas.pydata.org/pandas-docs/stable/user_guide/indexing.html#returning-a-view-versus-a-copy\n",
      "  dfTres['SUNSHINE'] = 'TRES'\n",
      "C:\\Users\\CYTECH~1\\AppData\\Local\\Temp/ipykernel_18696/1024174548.py:6: SettingWithCopyWarning: \n",
      "A value is trying to be set on a copy of a slice from a DataFrame.\n",
      "Try using .loc[row_indexer,col_indexer] = value instead\n",
      "\n",
      "See the caveats in the documentation: https://pandas.pydata.org/pandas-docs/stable/user_guide/indexing.html#returning-a-view-versus-a-copy\n",
      "  dfModere['SUNSHINE'] = 'MODERE'\n",
      "C:\\Users\\CYTECH~1\\AppData\\Local\\Temp/ipykernel_18696/1024174548.py:7: SettingWithCopyWarning: \n",
      "A value is trying to be set on a copy of a slice from a DataFrame.\n",
      "Try using .loc[row_indexer,col_indexer] = value instead\n",
      "\n",
      "See the caveats in the documentation: https://pandas.pydata.org/pandas-docs/stable/user_guide/indexing.html#returning-a-view-versus-a-copy\n",
      "  dfPeu['SUNSHINE'] = 'PEU'\n"
     ]
    },
    {
     "data": {
      "text/plain": [
       "Text(0.5, 1.0, 'Histogramme des villes selon leurs ensoleillement')"
      ]
     },
     "execution_count": 62,
     "metadata": {},
     "output_type": "execute_result"
    },
    {
     "data": {
      "image/png": "[encoded data removed]",
      "text/plain": [
       "<Figure size 432x288 with 1 Axes>"
      ]
     },
     "metadata": {
      "needs_background": "light"
     },
     "output_type": "display_data"
    }
   ],
   "source": [
    "# On remplace ici les variable quantitative en variable qualitative de la variable 'SUNSHINE'. On réalise ensuite une histograme des données.\n",
    "dfPeu = df[df['SUNSHINE']<1793]\n",
    "dfModere = df[(df['SUNSHINE']<=2085) & (df['SUNSHINE']>=1793)]\n",
    "dfTres = df[df['SUNSHINE']>2085]\n",
    "dfTres['SUNSHINE'] = 'TRES'\n",
    "dfModere['SUNSHINE'] = 'MODERE'\n",
    "dfPeu['SUNSHINE'] = 'PEU'\n",
    "dftest = dfPeu.append(dfModere, ignore_index=True)\n",
    "dftest = dftest.append(dfTres, ignore_index=True)\n",
    "dftest.groupby('SUNSHINE').size().plot(kind='bar')\n",
    "plt.ylabel('Nombre de ville')\n",
    "plt.xlabel('Ensoleillement')\n",
    "plt.title('Histogramme des villes selon leurs ensoleillement')\n"
   ]
  },
  {
   "cell_type": "code",
   "execution_count": 26,
   "metadata": {},
   "outputs": [
    {
     "data": {
      "text/html": [
       "<div>\n",
       "<style scoped>\n",
       "    .dataframe tbody tr th:only-of-type {\n",
       "        vertical-align: middle;\n",
       "    }\n",
       "\n",
       "    .dataframe tbody tr th {\n",
       "        vertical-align: top;\n",
       "    }\n",
       "\n",
       "    .dataframe thead th {\n",
       "        text-align: right;\n",
       "    }\n",
       "</style>\n",
       "<table border=\"1\" class=\"dataframe\">\n",
       "  <thead>\n",
       "    <tr style=\"text-align: right;\">\n",
       "      <th></th>\n",
       "      <th>NO2</th>\n",
       "      <th>DENSITY</th>\n",
       "      <th>JANr</th>\n",
       "      <th>FEBr</th>\n",
       "      <th>MARr</th>\n",
       "      <th>APRr</th>\n",
       "      <th>MAYr</th>\n",
       "      <th>JUNr</th>\n",
       "      <th>JULr</th>\n",
       "      <th>AUGr</th>\n",
       "      <th>...</th>\n",
       "      <th>SEPdr</th>\n",
       "      <th>OCTdr</th>\n",
       "      <th>NOVdr</th>\n",
       "      <th>DECdr</th>\n",
       "      <th>DAYS_RAINFALL</th>\n",
       "      <th>TEMP</th>\n",
       "      <th>TEMP_RANGE</th>\n",
       "      <th>SUNSHINE</th>\n",
       "      <th>LATITUDE</th>\n",
       "      <th>LONGITUDE</th>\n",
       "    </tr>\n",
       "  </thead>\n",
       "  <tbody>\n",
       "    <tr>\n",
       "      <th>Ajaccio</th>\n",
       "      <td>-1.259246</td>\n",
       "      <td>-0.987075</td>\n",
       "      <td>0.476033</td>\n",
       "      <td>0.422288</td>\n",
       "      <td>-0.367765</td>\n",
       "      <td>-0.964404</td>\n",
       "      <td>-1.105487</td>\n",
       "      <td>-1.848344</td>\n",
       "      <td>-1.933731</td>\n",
       "      <td>-1.959687</td>\n",
       "      <td>...</td>\n",
       "      <td>-1.791058</td>\n",
       "      <td>-0.972818</td>\n",
       "      <td>-0.856260</td>\n",
       "      <td>-0.577227</td>\n",
       "      <td>-1.430683</td>\n",
       "      <td>1.592042</td>\n",
       "      <td>-0.557085</td>\n",
       "      <td>1.848732</td>\n",
       "      <td>-1.875551</td>\n",
       "      <td>1.899567</td>\n",
       "    </tr>\n",
       "    <tr>\n",
       "      <th>Angers</th>\n",
       "      <td>-1.466778</td>\n",
       "      <td>-0.271073</td>\n",
       "      <td>-0.065892</td>\n",
       "      <td>-0.636127</td>\n",
       "      <td>0.205455</td>\n",
       "      <td>-0.550134</td>\n",
       "      <td>-0.630456</td>\n",
       "      <td>-0.245584</td>\n",
       "      <td>-0.552495</td>\n",
       "      <td>-0.149248</td>\n",
       "      <td>...</td>\n",
       "      <td>0.330832</td>\n",
       "      <td>0.233476</td>\n",
       "      <td>0.454558</td>\n",
       "      <td>0.398812</td>\n",
       "      <td>0.303392</td>\n",
       "      <td>-0.315574</td>\n",
       "      <td>-0.557085</td>\n",
       "      <td>-0.422675</td>\n",
       "      <td>0.506674</td>\n",
       "      <td>-0.943144</td>\n",
       "    </tr>\n",
       "    <tr>\n",
       "      <th>Angoulme</th>\n",
       "      <td>-1.414895</td>\n",
       "      <td>-0.689408</td>\n",
       "      <td>0.517720</td>\n",
       "      <td>0.366582</td>\n",
       "      <td>0.460220</td>\n",
       "      <td>0.623633</td>\n",
       "      <td>0.726775</td>\n",
       "      <td>-0.095325</td>\n",
       "      <td>0.441996</td>\n",
       "      <td>0.092144</td>\n",
       "      <td>...</td>\n",
       "      <td>0.330832</td>\n",
       "      <td>0.233476</td>\n",
       "      <td>0.454558</td>\n",
       "      <td>0.398812</td>\n",
       "      <td>0.479739</td>\n",
       "      <td>0.095982</td>\n",
       "      <td>-0.360280</td>\n",
       "      <td>-0.198523</td>\n",
       "      <td>-0.279086</td>\n",
       "      <td>-0.807005</td>\n",
       "    </tr>\n",
       "    <tr>\n",
       "      <th>Besancon</th>\n",
       "      <td>-0.346109</td>\n",
       "      <td>-0.725182</td>\n",
       "      <td>1.143017</td>\n",
       "      <td>1.424997</td>\n",
       "      <td>1.160823</td>\n",
       "      <td>1.452174</td>\n",
       "      <td>1.812560</td>\n",
       "      <td>2.358901</td>\n",
       "      <td>1.933731</td>\n",
       "      <td>2.103744</td>\n",
       "      <td>...</td>\n",
       "      <td>0.684481</td>\n",
       "      <td>0.635574</td>\n",
       "      <td>0.454558</td>\n",
       "      <td>0.073465</td>\n",
       "      <td>0.744259</td>\n",
       "      <td>-1.005207</td>\n",
       "      <td>0.968154</td>\n",
       "      <td>-0.427656</td>\n",
       "      <td>0.452627</td>\n",
       "      <td>1.115148</td>\n",
       "    </tr>\n",
       "    <tr>\n",
       "      <th>Biarritz</th>\n",
       "      <td>-1.518661</td>\n",
       "      <td>-0.622934</td>\n",
       "      <td>2.560359</td>\n",
       "      <td>2.427706</td>\n",
       "      <td>2.625720</td>\n",
       "      <td>3.385437</td>\n",
       "      <td>2.762622</td>\n",
       "      <td>1.557521</td>\n",
       "      <td>1.325987</td>\n",
       "      <td>2.385368</td>\n",
       "      <td>...</td>\n",
       "      <td>1.038129</td>\n",
       "      <td>1.037673</td>\n",
       "      <td>0.782263</td>\n",
       "      <td>0.724158</td>\n",
       "      <td>0.979387</td>\n",
       "      <td>0.963585</td>\n",
       "      <td>-1.639513</td>\n",
       "      <td>-0.367883</td>\n",
       "      <td>-1.152153</td>\n",
       "      <td>-1.270526</td>\n",
       "    </tr>\n",
       "  </tbody>\n",
       "</table>\n",
       "<p>5 rows × 33 columns</p>\n",
       "</div>"
      ],
      "text/plain": [
       "               NO2   DENSITY      JANr      FEBr      MARr      APRr  \\\n",
       "Ajaccio  -1.259246 -0.987075  0.476033  0.422288 -0.367765 -0.964404   \n",
       "Angers   -1.466778 -0.271073 -0.065892 -0.636127  0.205455 -0.550134   \n",
       "Angoulme -1.414895 -0.689408  0.517720  0.366582  0.460220  0.623633   \n",
       "Besancon -0.346109 -0.725182  1.143017  1.424997  1.160823  1.452174   \n",
       "Biarritz -1.518661 -0.622934  2.560359  2.427706  2.625720  3.385437   \n",
       "\n",
       "              MAYr      JUNr      JULr      AUGr  ...     SEPdr     OCTdr  \\\n",
       "Ajaccio  -1.105487 -1.848344 -1.933731 -1.959687  ... -1.791058 -0.972818   \n",
       "Angers   -0.630456 -0.245584 -0.552495 -0.149248  ...  0.330832  0.233476   \n",
       "Angoulme  0.726775 -0.095325  0.441996  0.092144  ...  0.330832  0.233476   \n",
       "Besancon  1.812560  2.358901  1.933731  2.103744  ...  0.684481  0.635574   \n",
       "Biarritz  2.762622  1.557521  1.325987  2.385368  ...  1.038129  1.037673   \n",
       "\n",
       "             NOVdr     DECdr  DAYS_RAINFALL      TEMP  TEMP_RANGE  SUNSHINE  \\\n",
       "Ajaccio  -0.856260 -0.577227      -1.430683  1.592042   -0.557085  1.848732   \n",
       "Angers    0.454558  0.398812       0.303392 -0.315574   -0.557085 -0.422675   \n",
       "Angoulme  0.454558  0.398812       0.479739  0.095982   -0.360280 -0.198523   \n",
       "Besancon  0.454558  0.073465       0.744259 -1.005207    0.968154 -0.427656   \n",
       "Biarritz  0.782263  0.724158       0.979387  0.963585   -1.639513 -0.367883   \n",
       "\n",
       "          LATITUDE  LONGITUDE  \n",
       "Ajaccio  -1.875551   1.899567  \n",
       "Angers    0.506674  -0.943144  \n",
       "Angoulme -0.279086  -0.807005  \n",
       "Besancon  0.452627   1.115148  \n",
       "Biarritz -1.152153  -1.270526  \n",
       "\n",
       "[5 rows x 33 columns]"
      ]
     },
     "execution_count": 26,
     "metadata": {},
     "output_type": "execute_result"
    }
   ],
   "source": [
    "# Centrage et réduction des variables\n",
    "temp = df.drop(['CLIMAT'], axis = 1) # on retire la variable qualitative\n",
    "temp = temp.sub(temp.mean()) # Soustraire la moyenne de chaque colonne à chaque valeur : centrer les valeurs\n",
    "\n",
    "temp = temp.div(temp.std()) # Divisé les valeurs de la dataframe par l'écart-type de chaque colonne\n",
    "\n",
    "temp.head()"
   ]
  },
  {
   "cell_type": "markdown",
   "metadata": {},
   "source": [
    "### Bonus : "
   ]
  },
  {
   "cell_type": "code",
   "execution_count": 27,
   "metadata": {},
   "outputs": [
    {
     "data": {
      "text/plain": [
       "[0, 0, 0, 0, 0, 0, 0, 0, 0, 0]"
      ]
     },
     "execution_count": 27,
     "metadata": {},
     "output_type": "execute_result"
    }
   ],
   "source": [
    "# Construction d'un vecteur composé de 10 \"0\"\n",
    "V = [0]*10\n",
    "V"
   ]
  },
  {
   "cell_type": "code",
   "execution_count": 28,
   "metadata": {},
   "outputs": [
    {
     "data": {
      "text/html": [
       "<div>\n",
       "<style scoped>\n",
       "    .dataframe tbody tr th:only-of-type {\n",
       "        vertical-align: middle;\n",
       "    }\n",
       "\n",
       "    .dataframe tbody tr th {\n",
       "        vertical-align: top;\n",
       "    }\n",
       "\n",
       "    .dataframe thead th {\n",
       "        text-align: right;\n",
       "    }\n",
       "</style>\n",
       "<table border=\"1\" class=\"dataframe\">\n",
       "  <thead>\n",
       "    <tr style=\"text-align: right;\">\n",
       "      <th></th>\n",
       "      <th>1</th>\n",
       "      <th>2</th>\n",
       "      <th>3</th>\n",
       "      <th>4</th>\n",
       "      <th>5</th>\n",
       "    </tr>\n",
       "  </thead>\n",
       "  <tbody>\n",
       "    <tr>\n",
       "      <th>0</th>\n",
       "      <td>0</td>\n",
       "      <td>0</td>\n",
       "      <td>0</td>\n",
       "      <td>0</td>\n",
       "      <td>0</td>\n",
       "    </tr>\n",
       "    <tr>\n",
       "      <th>1</th>\n",
       "      <td>0</td>\n",
       "      <td>0</td>\n",
       "      <td>0</td>\n",
       "      <td>0</td>\n",
       "      <td>0</td>\n",
       "    </tr>\n",
       "  </tbody>\n",
       "</table>\n",
       "</div>"
      ],
      "text/plain": [
       "   1  2  3  4  5\n",
       "0  0  0  0  0  0\n",
       "1  0  0  0  0  0"
      ]
     },
     "execution_count": 28,
     "metadata": {},
     "output_type": "execute_result"
    }
   ],
   "source": [
    "# Construction d'une matrice M 2x5 composée de 0\n",
    "data = [[0]*5]\n",
    "M = pd.DataFrame(data*2, columns = [1,2,3,4,5])\n",
    "M"
   ]
  },
  {
   "cell_type": "code",
   "execution_count": 29,
   "metadata": {},
   "outputs": [],
   "source": [
    "# Modification d'une matrice pour lui donner des valeurs de 1 à 10\n",
    "for i in range(6):\n",
    "    M.iloc[1][i] = i*2\n",
    "    M.iloc[0][i] = i*2-1\n"
   ]
  },
  {
   "cell_type": "code",
   "execution_count": 30,
   "metadata": {},
   "outputs": [
    {
     "data": {
      "text/html": [
       "<div>\n",
       "<style scoped>\n",
       "    .dataframe tbody tr th:only-of-type {\n",
       "        vertical-align: middle;\n",
       "    }\n",
       "\n",
       "    .dataframe tbody tr th {\n",
       "        vertical-align: top;\n",
       "    }\n",
       "\n",
       "    .dataframe thead th {\n",
       "        text-align: right;\n",
       "    }\n",
       "</style>\n",
       "<table border=\"1\" class=\"dataframe\">\n",
       "  <thead>\n",
       "    <tr style=\"text-align: right;\">\n",
       "      <th></th>\n",
       "      <th>1</th>\n",
       "      <th>2</th>\n",
       "      <th>3</th>\n",
       "      <th>4</th>\n",
       "      <th>5</th>\n",
       "    </tr>\n",
       "  </thead>\n",
       "  <tbody>\n",
       "    <tr>\n",
       "      <th>0</th>\n",
       "      <td>1</td>\n",
       "      <td>3</td>\n",
       "      <td>5</td>\n",
       "      <td>7</td>\n",
       "      <td>9</td>\n",
       "    </tr>\n",
       "    <tr>\n",
       "      <th>1</th>\n",
       "      <td>2</td>\n",
       "      <td>4</td>\n",
       "      <td>6</td>\n",
       "      <td>8</td>\n",
       "      <td>10</td>\n",
       "    </tr>\n",
       "  </tbody>\n",
       "</table>\n",
       "</div>"
      ],
      "text/plain": [
       "   1  2  3  4   5\n",
       "0  1  3  5  7   9\n",
       "1  2  4  6  8  10"
      ]
     },
     "execution_count": 30,
     "metadata": {},
     "output_type": "execute_result"
    }
   ],
   "source": [
    "M"
   ]
  },
  {
   "cell_type": "code",
   "execution_count": 31,
   "metadata": {},
   "outputs": [],
   "source": [
    "# Modification de la matrice pour que les valeurs saisie le soient ligne par ligne\n",
    "value = list(range(1,11))\n",
    "M = [value[:5],\n",
    "     value[5:]]"
   ]
  },
  {
   "cell_type": "code",
   "execution_count": 32,
   "metadata": {},
   "outputs": [
    {
     "data": {
      "text/html": [
       "<div>\n",
       "<style scoped>\n",
       "    .dataframe tbody tr th:only-of-type {\n",
       "        vertical-align: middle;\n",
       "    }\n",
       "\n",
       "    .dataframe tbody tr th {\n",
       "        vertical-align: top;\n",
       "    }\n",
       "\n",
       "    .dataframe thead th {\n",
       "        text-align: right;\n",
       "    }\n",
       "</style>\n",
       "<table border=\"1\" class=\"dataframe\">\n",
       "  <thead>\n",
       "    <tr style=\"text-align: right;\">\n",
       "      <th></th>\n",
       "      <th>0</th>\n",
       "      <th>1</th>\n",
       "      <th>2</th>\n",
       "      <th>3</th>\n",
       "      <th>4</th>\n",
       "    </tr>\n",
       "  </thead>\n",
       "  <tbody>\n",
       "    <tr>\n",
       "      <th>0</th>\n",
       "      <td>1</td>\n",
       "      <td>2</td>\n",
       "      <td>3</td>\n",
       "      <td>4</td>\n",
       "      <td>5</td>\n",
       "    </tr>\n",
       "    <tr>\n",
       "      <th>1</th>\n",
       "      <td>6</td>\n",
       "      <td>7</td>\n",
       "      <td>8</td>\n",
       "      <td>9</td>\n",
       "      <td>10</td>\n",
       "    </tr>\n",
       "  </tbody>\n",
       "</table>\n",
       "</div>"
      ],
      "text/plain": [
       "   0  1  2  3   4\n",
       "0  1  2  3  4   5\n",
       "1  6  7  8  9  10"
      ]
     },
     "execution_count": 32,
     "metadata": {},
     "output_type": "execute_result"
    }
   ],
   "source": [
    "# On transphorme la double série en dataframe pour un affichage matriciel\n",
    "M = pd.DataFrame(M)\n",
    "M"
   ]
  },
  {
   "cell_type": "code",
   "execution_count": 33,
   "metadata": {},
   "outputs": [
    {
     "data": {
      "text/html": [
       "<div>\n",
       "<style scoped>\n",
       "    .dataframe tbody tr th:only-of-type {\n",
       "        vertical-align: middle;\n",
       "    }\n",
       "\n",
       "    .dataframe tbody tr th {\n",
       "        vertical-align: top;\n",
       "    }\n",
       "\n",
       "    .dataframe thead th {\n",
       "        text-align: right;\n",
       "    }\n",
       "</style>\n",
       "<table border=\"1\" class=\"dataframe\">\n",
       "  <thead>\n",
       "    <tr style=\"text-align: right;\">\n",
       "      <th></th>\n",
       "      <th>1</th>\n",
       "      <th>2</th>\n",
       "      <th>3</th>\n",
       "      <th>4</th>\n",
       "      <th>5</th>\n",
       "    </tr>\n",
       "  </thead>\n",
       "  <tbody>\n",
       "    <tr>\n",
       "      <th>1</th>\n",
       "      <td>1</td>\n",
       "      <td>3</td>\n",
       "      <td>2</td>\n",
       "      <td>1</td>\n",
       "      <td>3</td>\n",
       "    </tr>\n",
       "    <tr>\n",
       "      <th>2</th>\n",
       "      <td>2</td>\n",
       "      <td>1</td>\n",
       "      <td>3</td>\n",
       "      <td>2</td>\n",
       "      <td>1</td>\n",
       "    </tr>\n",
       "  </tbody>\n",
       "</table>\n",
       "</div>"
      ],
      "text/plain": [
       "   1  2  3  4  5\n",
       "1  1  3  2  1  3\n",
       "2  2  1  3  2  1"
      ]
     },
     "execution_count": 33,
     "metadata": {},
     "output_type": "execute_result"
    }
   ],
   "source": [
    "# Construction d'une matrice avec des valeurs allant de 1 à 3 saisies verticalement\n",
    "value = {\n",
    "    '1': [1, 2],\n",
    "    '2': [3, 1],\n",
    "    '3': [2, 3],\n",
    "    '4': [1, 2],\n",
    "    '5': [3, 1]\n",
    "}\n",
    "M = pd.DataFrame(value, index = [1, 2])\n",
    "M"
   ]
  },
  {
   "cell_type": "code",
   "execution_count": 34,
   "metadata": {},
   "outputs": [
    {
     "data": {
      "text/plain": [
       "[3, 6, 9, 12, 15, 18, 21, 24, 27, 30]"
      ]
     },
     "execution_count": 34,
     "metadata": {},
     "output_type": "execute_result"
    }
   ],
   "source": [
    "# On créer une liste de 1 à 10, on la double puis on la multiplie par une autre liste de même taille.\n",
    "V1 = [1,2,3,4,5,6,7,8,9,10]\n",
    "V2 = [i*2 for i in V1]\n",
    "for i in range(10):\n",
    "    V2[i] = V2[i]+V1[i]\n",
    "V2"
   ]
  },
  {
   "cell_type": "code",
   "execution_count": 35,
   "metadata": {},
   "outputs": [
    {
     "data": {
      "text/html": [
       "<div>\n",
       "<style scoped>\n",
       "    .dataframe tbody tr th:only-of-type {\n",
       "        vertical-align: middle;\n",
       "    }\n",
       "\n",
       "    .dataframe tbody tr th {\n",
       "        vertical-align: top;\n",
       "    }\n",
       "\n",
       "    .dataframe thead th {\n",
       "        text-align: right;\n",
       "    }\n",
       "</style>\n",
       "<table border=\"1\" class=\"dataframe\">\n",
       "  <thead>\n",
       "    <tr style=\"text-align: right;\">\n",
       "      <th></th>\n",
       "      <th>1</th>\n",
       "      <th>2</th>\n",
       "      <th>3</th>\n",
       "      <th>4</th>\n",
       "      <th>5</th>\n",
       "    </tr>\n",
       "  </thead>\n",
       "  <tbody>\n",
       "    <tr>\n",
       "      <th>0</th>\n",
       "      <td>1</td>\n",
       "      <td>3</td>\n",
       "      <td>5</td>\n",
       "      <td>7</td>\n",
       "      <td>9</td>\n",
       "    </tr>\n",
       "    <tr>\n",
       "      <th>1</th>\n",
       "      <td>2</td>\n",
       "      <td>4</td>\n",
       "      <td>6</td>\n",
       "      <td>8</td>\n",
       "      <td>10</td>\n",
       "    </tr>\n",
       "  </tbody>\n",
       "</table>\n",
       "</div>"
      ],
      "text/plain": [
       "   1  2  3  4   5\n",
       "0  1  3  5  7   9\n",
       "1  2  4  6  8  10"
      ]
     },
     "execution_count": 35,
     "metadata": {},
     "output_type": "execute_result"
    }
   ],
   "source": [
    "# Modification d'une matrice pour lui donner des valeurs de 1 à 10\n",
    "M1 = pd.DataFrame(data*2, columns = [1,2,3,4,5])\n",
    "for i in range(6):\n",
    "    M1.iloc[1][i] = i*2\n",
    "    M1.iloc[0][i] = i*2-1\n",
    "M1"
   ]
  },
  {
   "cell_type": "code",
   "execution_count": 36,
   "metadata": {},
   "outputs": [
    {
     "data": {
      "text/html": [
       "<div>\n",
       "<style scoped>\n",
       "    .dataframe tbody tr th:only-of-type {\n",
       "        vertical-align: middle;\n",
       "    }\n",
       "\n",
       "    .dataframe tbody tr th {\n",
       "        vertical-align: top;\n",
       "    }\n",
       "\n",
       "    .dataframe thead th {\n",
       "        text-align: right;\n",
       "    }\n",
       "</style>\n",
       "<table border=\"1\" class=\"dataframe\">\n",
       "  <thead>\n",
       "    <tr style=\"text-align: right;\">\n",
       "      <th></th>\n",
       "      <th>1</th>\n",
       "      <th>2</th>\n",
       "      <th>3</th>\n",
       "      <th>4</th>\n",
       "      <th>5</th>\n",
       "    </tr>\n",
       "  </thead>\n",
       "  <tbody>\n",
       "    <tr>\n",
       "      <th>0</th>\n",
       "      <td>2</td>\n",
       "      <td>6</td>\n",
       "      <td>10</td>\n",
       "      <td>14</td>\n",
       "      <td>18</td>\n",
       "    </tr>\n",
       "    <tr>\n",
       "      <th>1</th>\n",
       "      <td>4</td>\n",
       "      <td>8</td>\n",
       "      <td>12</td>\n",
       "      <td>16</td>\n",
       "      <td>20</td>\n",
       "    </tr>\n",
       "  </tbody>\n",
       "</table>\n",
       "</div>"
      ],
      "text/plain": [
       "   1  2   3   4   5\n",
       "0  2  6  10  14  18\n",
       "1  4  8  12  16  20"
      ]
     },
     "execution_count": 36,
     "metadata": {},
     "output_type": "execute_result"
    }
   ],
   "source": [
    "# Création d'une matrice égale au double de la matrice M1\n",
    "M2 = M1*2\n",
    "M2"
   ]
  },
  {
   "cell_type": "code",
   "execution_count": 37,
   "metadata": {},
   "outputs": [
    {
     "data": {
      "text/html": [
       "<div>\n",
       "<style scoped>\n",
       "    .dataframe tbody tr th:only-of-type {\n",
       "        vertical-align: middle;\n",
       "    }\n",
       "\n",
       "    .dataframe tbody tr th {\n",
       "        vertical-align: top;\n",
       "    }\n",
       "\n",
       "    .dataframe thead th {\n",
       "        text-align: right;\n",
       "    }\n",
       "</style>\n",
       "<table border=\"1\" class=\"dataframe\">\n",
       "  <thead>\n",
       "    <tr style=\"text-align: right;\">\n",
       "      <th></th>\n",
       "      <th>1</th>\n",
       "      <th>2</th>\n",
       "      <th>3</th>\n",
       "      <th>4</th>\n",
       "      <th>5</th>\n",
       "    </tr>\n",
       "  </thead>\n",
       "  <tbody>\n",
       "    <tr>\n",
       "      <th>0</th>\n",
       "      <td>2</td>\n",
       "      <td>18</td>\n",
       "      <td>50</td>\n",
       "      <td>98</td>\n",
       "      <td>162</td>\n",
       "    </tr>\n",
       "    <tr>\n",
       "      <th>1</th>\n",
       "      <td>8</td>\n",
       "      <td>32</td>\n",
       "      <td>72</td>\n",
       "      <td>128</td>\n",
       "      <td>200</td>\n",
       "    </tr>\n",
       "  </tbody>\n",
       "</table>\n",
       "</div>"
      ],
      "text/plain": [
       "   1   2   3    4    5\n",
       "0  2  18  50   98  162\n",
       "1  8  32  72  128  200"
      ]
     },
     "execution_count": 37,
     "metadata": {},
     "output_type": "execute_result"
    }
   ],
   "source": [
    "# Multiplication du contenu des deux matrices\n",
    "M1*M2"
   ]
  },
  {
   "cell_type": "code",
   "execution_count": 38,
   "metadata": {},
   "outputs": [
    {
     "data": {
      "text/html": [
       "<div>\n",
       "<style scoped>\n",
       "    .dataframe tbody tr th:only-of-type {\n",
       "        vertical-align: middle;\n",
       "    }\n",
       "\n",
       "    .dataframe tbody tr th {\n",
       "        vertical-align: top;\n",
       "    }\n",
       "\n",
       "    .dataframe thead th {\n",
       "        text-align: right;\n",
       "    }\n",
       "</style>\n",
       "<table border=\"1\" class=\"dataframe\">\n",
       "  <thead>\n",
       "    <tr style=\"text-align: right;\">\n",
       "      <th></th>\n",
       "      <th>0</th>\n",
       "      <th>1</th>\n",
       "    </tr>\n",
       "  </thead>\n",
       "  <tbody>\n",
       "    <tr>\n",
       "      <th>0</th>\n",
       "      <td>330</td>\n",
       "      <td>380</td>\n",
       "    </tr>\n",
       "    <tr>\n",
       "      <th>1</th>\n",
       "      <td>380</td>\n",
       "      <td>440</td>\n",
       "    </tr>\n",
       "  </tbody>\n",
       "</table>\n",
       "</div>"
      ],
      "text/plain": [
       "     0    1\n",
       "0  330  380\n",
       "1  380  440"
      ]
     },
     "execution_count": 38,
     "metadata": {},
     "output_type": "execute_result"
    }
   ],
   "source": [
    "# Produit matriciel des deux matrices M1 et M2 avec M2 Transposée.\n",
    "M1.dot(M2.T)"
   ]
  },
  {
   "cell_type": "code",
   "execution_count": 39,
   "metadata": {},
   "outputs": [
    {
     "data": {
      "text/html": [
       "<div>\n",
       "<style scoped>\n",
       "    .dataframe tbody tr th:only-of-type {\n",
       "        vertical-align: middle;\n",
       "    }\n",
       "\n",
       "    .dataframe tbody tr th {\n",
       "        vertical-align: top;\n",
       "    }\n",
       "\n",
       "    .dataframe thead th {\n",
       "        text-align: right;\n",
       "    }\n",
       "</style>\n",
       "<table border=\"1\" class=\"dataframe\">\n",
       "  <thead>\n",
       "    <tr style=\"text-align: right;\">\n",
       "      <th></th>\n",
       "      <th>A</th>\n",
       "      <th>B</th>\n",
       "      <th>C</th>\n",
       "    </tr>\n",
       "  </thead>\n",
       "  <tbody>\n",
       "    <tr>\n",
       "      <th>0</th>\n",
       "      <td>1</td>\n",
       "      <td>4</td>\n",
       "      <td>7</td>\n",
       "    </tr>\n",
       "    <tr>\n",
       "      <th>1</th>\n",
       "      <td>2</td>\n",
       "      <td>5</td>\n",
       "      <td>8</td>\n",
       "    </tr>\n",
       "    <tr>\n",
       "      <th>2</th>\n",
       "      <td>3</td>\n",
       "      <td>6</td>\n",
       "      <td>9</td>\n",
       "    </tr>\n",
       "  </tbody>\n",
       "</table>\n",
       "</div>"
      ],
      "text/plain": [
       "   A  B  C\n",
       "0  1  4  7\n",
       "1  2  5  8\n",
       "2  3  6  9"
      ]
     },
     "execution_count": 39,
     "metadata": {},
     "output_type": "execute_result"
    }
   ],
   "source": [
    "# Création d'une matrice à partir d'une serie V\n",
    "V = [1, 2, 3, 4, 5, 6, 7, 8, 9]\n",
    "M = pd.DataFrame({\n",
    "    'A': V[0:3],\n",
    "    'B': V[3:6],\n",
    "    'C': V[6:9]\n",
    "})\n",
    "M\n"
   ]
  },
  {
   "cell_type": "code",
   "execution_count": 40,
   "metadata": {},
   "outputs": [
    {
     "name": "stdout",
     "output_type": "stream",
     "text": [
      "\n",
      "Diagonale de M:\n",
      "[1 5 9]\n"
     ]
    }
   ],
   "source": [
    "# Diagonale d’une matrice\n",
    "print(\"\\nDiagonale de M:\")\n",
    "print(M.values.diagonal())"
   ]
  },
  {
   "cell_type": "code",
   "execution_count": 41,
   "metadata": {},
   "outputs": [
    {
     "name": "stdout",
     "output_type": "stream",
     "text": [
      "\n",
      "Déterminant de M:\n",
      "0.0\n"
     ]
    }
   ],
   "source": [
    "# Déterminant d’une matrice (cette opération nécessite numpy)\n",
    "print(\"\\nDéterminant de M:\")\n",
    "print(np.linalg.det(M))\n"
   ]
  },
  {
   "cell_type": "code",
   "execution_count": 42,
   "metadata": {},
   "outputs": [
    {
     "name": "stdout",
     "output_type": "stream",
     "text": [
      "\n",
      "Somme des éléments de M:\n",
      "45\n"
     ]
    }
   ],
   "source": [
    "# Somme les éléments d’une matrice\n",
    "print(\"\\nSomme des éléments de M:\")\n",
    "print(M.values.sum())"
   ]
  },
  {
   "cell_type": "code",
   "execution_count": 43,
   "metadata": {},
   "outputs": [
    {
     "name": "stdout",
     "output_type": "stream",
     "text": [
      "\n",
      "Exponentielle de M:\n",
      "           A           B            C\n",
      "0   2.718282   54.598150  1096.633158\n",
      "1   7.389056  148.413159  2980.957987\n",
      "2  20.085537  403.428793  8103.083928\n"
     ]
    }
   ],
   "source": [
    "# Appliquer la fonction exponentielle à tous les éléments de la matrice\n",
    "print(\"\\nExponentielle de M:\")\n",
    "print(np.exp(M))"
   ]
  },
  {
   "cell_type": "code",
   "execution_count": 44,
   "metadata": {},
   "outputs": [
    {
     "name": "stdout",
     "output_type": "stream",
     "text": [
      "\n",
      "Concaténation de M1 et M2 par les colonnes:\n",
      "   A  B  C  A   B   C\n",
      "0  1  4  7  2   8  14\n",
      "1  2  5  8  4  10  16\n",
      "2  3  6  9  6  12  18\n"
     ]
    }
   ],
   "source": [
    "# Exemples de matrices M1 et M2 pour la démonstration\n",
    "M1 = M.copy()\n",
    "M2 = M * 2\n",
    "# Concaténation de matrices par les colonnes\n",
    "print(\"\\nConcaténation de M1 et M2 par les colonnes:\")\n",
    "print(pd.concat([M1, M2], axis=1))"
   ]
  },
  {
   "cell_type": "code",
   "execution_count": 45,
   "metadata": {},
   "outputs": [
    {
     "name": "stdout",
     "output_type": "stream",
     "text": [
      "\n",
      "Concaténation de M1 et M2 par les lignes:\n",
      "   A   B   C\n",
      "0  1   4   7\n",
      "1  2   5   8\n",
      "2  3   6   9\n",
      "0  2   8  14\n",
      "1  4  10  16\n",
      "2  6  12  18\n"
     ]
    }
   ],
   "source": [
    "# Concaténation de matrices par les lignes\n",
    "print(\"\\nConcaténation de M1 et M2 par les lignes:\")\n",
    "print(pd.concat([M1, M2]))"
   ]
  },
  {
   "cell_type": "code",
   "execution_count": 46,
   "metadata": {},
   "outputs": [
    {
     "name": "stdout",
     "output_type": "stream",
     "text": [
      "\n",
      "Indices où V2 >= 8:\n",
      "Int64Index([3, 4, 5], dtype='int64')\n"
     ]
    }
   ],
   "source": [
    "# Donne les index des éléments d’un vecteur vérifiant la condition logique\n",
    "V2 = pd.Series([5, 6, 7, 8, 9, 10, 1, 2, 3])\n",
    "print(\"\\nIndices où V2 >= 8:\")\n",
    "print(V2[V2 >= 8].index)"
   ]
  },
  {
   "cell_type": "code",
   "execution_count": 47,
   "metadata": {},
   "outputs": [
    {
     "name": "stdout",
     "output_type": "stream",
     "text": [
      "\n",
      "Index du minimum de V2:\n",
      "6\n"
     ]
    }
   ],
   "source": [
    "\n",
    "# Donne l’index du minimum\n",
    "print(\"\\nIndex du minimum de V2:\")\n",
    "print(V2.idxmin())\n",
    "\n",
    "# (Pour le maximum, utilisez V2.idxmax())\n"
   ]
  }
 ],
 "metadata": {
  "kernelspec": {
   "display_name": "Python 3",
   "language": "python",
   "name": "python3"
  },
  "language_info": {
   "codemirror_mode": {
    "name": "ipython",
    "version": 3
   },
   "file_extension": ".py",
   "mimetype": "text/x-python",
   "name": "python",
   "nbconvert_exporter": "python",
   "pygments_lexer": "ipython3",
   "version": "3.9.4"
  },
  "orig_nbformat": 4
 },
 "nbformat": 4,
 "nbformat_minor": 2
}
