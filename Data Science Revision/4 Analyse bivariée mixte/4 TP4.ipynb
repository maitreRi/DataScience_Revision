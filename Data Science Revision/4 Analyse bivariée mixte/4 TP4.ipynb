{
 "cells": [
  {
   "cell_type": "code",
   "execution_count": 1,
   "metadata": {},
   "outputs": [],
   "source": [
    "# Import des packages\n",
    "import pandas as pd\n",
    "import numpy as np\n",
    "import matplotlib.pyplot as plt"
   ]
  },
  {
   "cell_type": "code",
   "execution_count": 2,
   "metadata": {},
   "outputs": [
    {
     "data": {
      "text/html": [
       "<div>\n",
       "<style scoped>\n",
       "    .dataframe tbody tr th:only-of-type {\n",
       "        vertical-align: middle;\n",
       "    }\n",
       "\n",
       "    .dataframe tbody tr th {\n",
       "        vertical-align: top;\n",
       "    }\n",
       "\n",
       "    .dataframe thead th {\n",
       "        text-align: right;\n",
       "    }\n",
       "</style>\n",
       "<table border=\"1\" class=\"dataframe\">\n",
       "  <thead>\n",
       "    <tr style=\"text-align: right;\">\n",
       "      <th></th>\n",
       "      <th>Sexe</th>\n",
       "      <th>Salaire</th>\n",
       "      <th>Categorie</th>\n",
       "      <th>Age</th>\n",
       "      <th>Etablissement</th>\n",
       "    </tr>\n",
       "  </thead>\n",
       "  <tbody>\n",
       "    <tr>\n",
       "      <th>0</th>\n",
       "      <td>H</td>\n",
       "      <td>140</td>\n",
       "      <td>CS</td>\n",
       "      <td>58</td>\n",
       "      <td>A</td>\n",
       "    </tr>\n",
       "    <tr>\n",
       "      <th>1</th>\n",
       "      <td>F</td>\n",
       "      <td>120</td>\n",
       "      <td>CS</td>\n",
       "      <td>55</td>\n",
       "      <td>A</td>\n",
       "    </tr>\n",
       "    <tr>\n",
       "      <th>2</th>\n",
       "      <td>H</td>\n",
       "      <td>118</td>\n",
       "      <td>CS</td>\n",
       "      <td>50</td>\n",
       "      <td>C</td>\n",
       "    </tr>\n",
       "    <tr>\n",
       "      <th>3</th>\n",
       "      <td>H</td>\n",
       "      <td>117</td>\n",
       "      <td>CS</td>\n",
       "      <td>44</td>\n",
       "      <td>C</td>\n",
       "    </tr>\n",
       "    <tr>\n",
       "      <th>4</th>\n",
       "      <td>H</td>\n",
       "      <td>117</td>\n",
       "      <td>CS</td>\n",
       "      <td>45</td>\n",
       "      <td>B</td>\n",
       "    </tr>\n",
       "  </tbody>\n",
       "</table>\n",
       "</div>"
      ],
      "text/plain": [
       "  Sexe  Salaire Categorie  Age Etablissement\n",
       "0    H      140        CS   58             A\n",
       "1    F      120        CS   55             A\n",
       "2    H      118        CS   50             C\n",
       "3    H      117        CS   44             C\n",
       "4    H      117        CS   45             B"
      ]
     },
     "execution_count": 2,
     "metadata": {},
     "output_type": "execute_result"
    }
   ],
   "source": [
    "# import des datas SalairesData.csv\n",
    "df = pd.read_csv('Data\\SalairesData.csv', sep=';')\n",
    "df.drop('Unnamed: 0', axis=1, inplace=True)\n",
    "df.head()"
   ]
  },
  {
   "cell_type": "code",
   "execution_count": 3,
   "metadata": {},
   "outputs": [
    {
     "name": "stdout",
     "output_type": "stream",
     "text": [
      "<class 'pandas.core.frame.DataFrame'>\n",
      "RangeIndex: 130 entries, 0 to 129\n",
      "Data columns (total 5 columns):\n",
      " #   Column         Non-Null Count  Dtype \n",
      "---  ------         --------------  ----- \n",
      " 0   Sexe           130 non-null    object\n",
      " 1   Salaire        130 non-null    int64 \n",
      " 2   Categorie      130 non-null    object\n",
      " 3   Age            130 non-null    int64 \n",
      " 4   Etablissement  130 non-null    object\n",
      "dtypes: int64(2), object(3)\n",
      "memory usage: 3.6+ KB\n"
     ]
    }
   ],
   "source": [
    "# informations sur les données\n",
    "df.info()"
   ]
  },
  {
   "cell_type": "code",
   "execution_count": 4,
   "metadata": {},
   "outputs": [
    {
     "data": {
      "text/html": [
       "<div>\n",
       "<style scoped>\n",
       "    .dataframe tbody tr th:only-of-type {\n",
       "        vertical-align: middle;\n",
       "    }\n",
       "\n",
       "    .dataframe tbody tr th {\n",
       "        vertical-align: top;\n",
       "    }\n",
       "\n",
       "    .dataframe thead th {\n",
       "        text-align: right;\n",
       "    }\n",
       "</style>\n",
       "<table border=\"1\" class=\"dataframe\">\n",
       "  <thead>\n",
       "    <tr style=\"text-align: right;\">\n",
       "      <th></th>\n",
       "      <th>Salaire</th>\n",
       "      <th>Age</th>\n",
       "    </tr>\n",
       "  </thead>\n",
       "  <tbody>\n",
       "    <tr>\n",
       "      <th>count</th>\n",
       "      <td>130.000000</td>\n",
       "      <td>130.000000</td>\n",
       "    </tr>\n",
       "    <tr>\n",
       "      <th>mean</th>\n",
       "      <td>32.038462</td>\n",
       "      <td>33.200000</td>\n",
       "    </tr>\n",
       "    <tr>\n",
       "      <th>std</th>\n",
       "      <td>26.085252</td>\n",
       "      <td>11.999612</td>\n",
       "    </tr>\n",
       "    <tr>\n",
       "      <th>min</th>\n",
       "      <td>18.000000</td>\n",
       "      <td>18.000000</td>\n",
       "    </tr>\n",
       "    <tr>\n",
       "      <th>25%</th>\n",
       "      <td>21.000000</td>\n",
       "      <td>23.000000</td>\n",
       "    </tr>\n",
       "    <tr>\n",
       "      <th>50%</th>\n",
       "      <td>23.000000</td>\n",
       "      <td>30.500000</td>\n",
       "    </tr>\n",
       "    <tr>\n",
       "      <th>75%</th>\n",
       "      <td>26.000000</td>\n",
       "      <td>42.000000</td>\n",
       "    </tr>\n",
       "    <tr>\n",
       "      <th>max</th>\n",
       "      <td>140.000000</td>\n",
       "      <td>59.000000</td>\n",
       "    </tr>\n",
       "  </tbody>\n",
       "</table>\n",
       "</div>"
      ],
      "text/plain": [
       "          Salaire         Age\n",
       "count  130.000000  130.000000\n",
       "mean    32.038462   33.200000\n",
       "std     26.085252   11.999612\n",
       "min     18.000000   18.000000\n",
       "25%     21.000000   23.000000\n",
       "50%     23.000000   30.500000\n",
       "75%     26.000000   42.000000\n",
       "max    140.000000   59.000000"
      ]
     },
     "execution_count": 4,
     "metadata": {},
     "output_type": "execute_result"
    }
   ],
   "source": [
    "# description des données\n",
    "df.describe()"
   ]
  },
  {
   "cell_type": "code",
   "execution_count": 5,
   "metadata": {},
   "outputs": [
    {
     "data": {
      "text/plain": [
       "Index(['Sexe', 'Salaire', 'Categorie', 'Age', 'Etablissement'], dtype='object')"
      ]
     },
     "execution_count": 5,
     "metadata": {},
     "output_type": "execute_result"
    }
   ],
   "source": [
    "df.columns"
   ]
  },
  {
   "cell_type": "code",
   "execution_count": 6,
   "metadata": {},
   "outputs": [
    {
     "data": {
      "text/html": [
       "<div>\n",
       "<style scoped>\n",
       "    .dataframe tbody tr th:only-of-type {\n",
       "        vertical-align: middle;\n",
       "    }\n",
       "\n",
       "    .dataframe tbody tr th {\n",
       "        vertical-align: top;\n",
       "    }\n",
       "\n",
       "    .dataframe thead th {\n",
       "        text-align: right;\n",
       "    }\n",
       "</style>\n",
       "<table border=\"1\" class=\"dataframe\">\n",
       "  <thead>\n",
       "    <tr style=\"text-align: right;\">\n",
       "      <th></th>\n",
       "      <th>Sexe</th>\n",
       "      <th>Salaire</th>\n",
       "      <th>Age</th>\n",
       "    </tr>\n",
       "  </thead>\n",
       "  <tbody>\n",
       "    <tr>\n",
       "      <th>0</th>\n",
       "      <td>H</td>\n",
       "      <td>140</td>\n",
       "      <td>58</td>\n",
       "    </tr>\n",
       "    <tr>\n",
       "      <th>1</th>\n",
       "      <td>F</td>\n",
       "      <td>120</td>\n",
       "      <td>55</td>\n",
       "    </tr>\n",
       "    <tr>\n",
       "      <th>2</th>\n",
       "      <td>H</td>\n",
       "      <td>118</td>\n",
       "      <td>50</td>\n",
       "    </tr>\n",
       "    <tr>\n",
       "      <th>3</th>\n",
       "      <td>H</td>\n",
       "      <td>117</td>\n",
       "      <td>44</td>\n",
       "    </tr>\n",
       "    <tr>\n",
       "      <th>4</th>\n",
       "      <td>H</td>\n",
       "      <td>117</td>\n",
       "      <td>45</td>\n",
       "    </tr>\n",
       "  </tbody>\n",
       "</table>\n",
       "</div>"
      ],
      "text/plain": [
       "  Sexe  Salaire  Age\n",
       "0    H      140   58\n",
       "1    F      120   55\n",
       "2    H      118   50\n",
       "3    H      117   44\n",
       "4    H      117   45"
      ]
     },
     "execution_count": 6,
     "metadata": {},
     "output_type": "execute_result"
    }
   ],
   "source": [
    "df_categorie = df[['Categorie', 'Salaire', 'Age']]\n",
    "df_sexe = df[['Sexe', 'Salaire', 'Age']]\n",
    "df_etablissement = df[['Etablissement', 'Salaire', 'Age']]\n",
    "df_sexe.head()"
   ]
  },
  {
   "cell_type": "markdown",
   "metadata": {},
   "source": [
    "Suite à l'étude de ces trois boites de Tukey, nous remarquons que les salaires semblent varier en fonction des catégories et du sexe principalement. L'établissement ne semble pas être un facteur fortement corrélé avec le salaire."
   ]
  },
  {
   "cell_type": "markdown",
   "metadata": {},
   "source": [
    "# Etude du salaire en fonction du Sexe"
   ]
  },
  {
   "cell_type": "code",
   "execution_count": 7,
   "metadata": {},
   "outputs": [
    {
     "data": {
      "text/html": [
       "<div>\n",
       "<style scoped>\n",
       "    .dataframe tbody tr th:only-of-type {\n",
       "        vertical-align: middle;\n",
       "    }\n",
       "\n",
       "    .dataframe tbody tr th {\n",
       "        vertical-align: top;\n",
       "    }\n",
       "\n",
       "    .dataframe thead th {\n",
       "        text-align: right;\n",
       "    }\n",
       "</style>\n",
       "<table border=\"1\" class=\"dataframe\">\n",
       "  <thead>\n",
       "    <tr style=\"text-align: right;\">\n",
       "      <th></th>\n",
       "      <th>Sexe</th>\n",
       "      <th>Salaire</th>\n",
       "      <th>Age</th>\n",
       "    </tr>\n",
       "  </thead>\n",
       "  <tbody>\n",
       "    <tr>\n",
       "      <th>0</th>\n",
       "      <td>H</td>\n",
       "      <td>140</td>\n",
       "      <td>58</td>\n",
       "    </tr>\n",
       "    <tr>\n",
       "      <th>2</th>\n",
       "      <td>H</td>\n",
       "      <td>118</td>\n",
       "      <td>50</td>\n",
       "    </tr>\n",
       "    <tr>\n",
       "      <th>3</th>\n",
       "      <td>H</td>\n",
       "      <td>117</td>\n",
       "      <td>44</td>\n",
       "    </tr>\n",
       "    <tr>\n",
       "      <th>4</th>\n",
       "      <td>H</td>\n",
       "      <td>117</td>\n",
       "      <td>45</td>\n",
       "    </tr>\n",
       "    <tr>\n",
       "      <th>5</th>\n",
       "      <td>H</td>\n",
       "      <td>115</td>\n",
       "      <td>42</td>\n",
       "    </tr>\n",
       "  </tbody>\n",
       "</table>\n",
       "</div>"
      ],
      "text/plain": [
       "  Sexe  Salaire  Age\n",
       "0    H      140   58\n",
       "2    H      118   50\n",
       "3    H      117   44\n",
       "4    H      117   45\n",
       "5    H      115   42"
      ]
     },
     "execution_count": 7,
     "metadata": {},
     "output_type": "execute_result"
    }
   ],
   "source": [
    "# création des sous populations\n",
    "df_sexe_H = df_sexe[df_sexe['Sexe']== 'H']\n",
    "df_sexe_F = df_sexe[df_sexe['Sexe']== 'F']\n",
    "df_sexe_H.head()"
   ]
  },
  {
   "cell_type": "code",
   "execution_count": 8,
   "metadata": {},
   "outputs": [
    {
     "name": "stdout",
     "output_type": "stream",
     "text": [
      "Indicateurs de position:\n",
      "Moyenne:\n",
      " Salaire    32.038462\n",
      "Age        33.200000\n",
      "dtype: float64 \n",
      "\n",
      "Médiane:\n",
      " Salaire    23.0\n",
      "Age        30.5\n",
      "dtype: float64 \n",
      "\n",
      "Quantiles:\n",
      "       Salaire   Age\n",
      "0.25     21.0  23.0\n",
      "0.50     23.0  30.5\n",
      "0.75     26.0  42.0\n",
      "\n",
      "Indicateurs de dispersion: \n",
      "Écart-type:\n",
      " Salaire    26.085252\n",
      "Age        11.999612\n",
      "dtype: float64 \n",
      "\n",
      "Variance:\n",
      " Salaire    680.440370\n",
      "Age        143.990698\n",
      "dtype: float64 \n",
      "\n",
      "Écart interquartile (IQR):\n",
      " Salaire     5.0\n",
      "Age        19.0\n",
      "dtype: float64\n"
     ]
    },
    {
     "name": "stderr",
     "output_type": "stream",
     "text": [
      "C:\\Users\\CYTECH~1\\AppData\\Local\\Temp/ipykernel_144/2390011565.py:2: FutureWarning: Dropping of nuisance columns in DataFrame reductions (with 'numeric_only=None') is deprecated; in a future version this will raise TypeError.  Select only valid columns before calling the reduction.\n",
      "  mean = df_sexe.mean()\n",
      "C:\\Users\\CYTECH~1\\AppData\\Local\\Temp/ipykernel_144/2390011565.py:3: FutureWarning: Dropping of nuisance columns in DataFrame reductions (with 'numeric_only=None') is deprecated; in a future version this will raise TypeError.  Select only valid columns before calling the reduction.\n",
      "  median = df_sexe.median()\n",
      "C:\\Users\\CYTECH~1\\AppData\\Local\\Temp/ipykernel_144/2390011565.py:7: FutureWarning: Dropping of nuisance columns in DataFrame reductions (with 'numeric_only=None') is deprecated; in a future version this will raise TypeError.  Select only valid columns before calling the reduction.\n",
      "  std_dev = df_sexe.std()\n",
      "C:\\Users\\CYTECH~1\\AppData\\Local\\Temp/ipykernel_144/2390011565.py:8: FutureWarning: Dropping of nuisance columns in DataFrame reductions (with 'numeric_only=None') is deprecated; in a future version this will raise TypeError.  Select only valid columns before calling the reduction.\n",
      "  variance = df_sexe.var()\n"
     ]
    }
   ],
   "source": [
    "# Indicateurs de position\n",
    "mean = df_sexe.mean()\n",
    "median = df_sexe.median()\n",
    "quantiles = df_sexe.quantile([0.25, 0.5, 0.75])\n",
    "\n",
    "# Indicateurs de dispersion\n",
    "std_dev = df_sexe.std()\n",
    "variance = df_sexe.var()\n",
    "iqr = df_sexe.quantile(0.75) - df_sexe.quantile(0.25)\n",
    "\n",
    "print(\"Indicateurs de position:\")\n",
    "print(\"Moyenne:\\n\", mean, \"\\n\\nMédiane:\\n\", median, \"\\n\\nQuantiles:\\n\", quantiles)\n",
    "\n",
    "print(\"\\nIndicateurs de dispersion:\", \"\\nÉcart-type:\\n\", std_dev, \"\\n\\nVariance:\\n\", variance, \"\\n\\nÉcart interquartile (IQR):\\n\", iqr)"
   ]
  },
  {
   "cell_type": "code",
   "execution_count": 9,
   "metadata": {},
   "outputs": [
    {
     "data": {
      "image/png": "[encoded data removed]",
      "text/plain": [
       "<Figure size 432x288 with 1 Axes>"
      ]
     },
     "metadata": {
      "needs_background": "light"
     },
     "output_type": "display_data"
    }
   ],
   "source": [
    "# boite de Tukey des Salaire par Sexe\n",
    "df_sexe.boxplot(column='Salaire', by='Sexe', showmeans=True, notch = True)\n",
    "plt.ylabel('euros')\n",
    "plt.suptitle('')\n",
    "plt.title('Boxplot des salaires par sexe')\n",
    "plt.show()  "
   ]
  },
  {
   "cell_type": "code",
   "execution_count": 10,
   "metadata": {},
   "outputs": [
    {
     "data": {
      "image/png": "[encoded data removed]",
      "text/plain": [
       "<Figure size 432x288 with 1 Axes>"
      ]
     },
     "metadata": {
      "needs_background": "light"
     },
     "output_type": "display_data"
    }
   ],
   "source": [
    "# histogrammes pour la variables sexe pour le salaire\n",
    "df_sexe_H['Salaire'].plot(kind='hist', bins=20, color='blue', alpha=0.5, label='Homme')\n",
    "df_sexe_F['Salaire'].plot(kind='hist', bins=20, color='red', alpha=0.5, label='Femme')\n",
    "plt.xlabel('Salaire')\n",
    "plt.ylabel('Nombre de personnes')\n",
    "plt.title('Histogramme des salaires par sexe')\n",
    "plt.legend()\n",
    "plt.show()"
   ]
  },
  {
   "cell_type": "code",
   "execution_count": 11,
   "metadata": {},
   "outputs": [
    {
     "name": "stdout",
     "output_type": "stream",
     "text": [
      "variance : Salaire    751.420269\n",
      "Age        126.340904\n",
      "dtype: float64\n",
      "effectif 39\n",
      "variance : Salaire    751.420269\n",
      "Age        126.340904\n",
      "dtype: float64\n",
      "effectif 39\n",
      "\n",
      "\n",
      " variation intra :  Salaire    675.433459\n",
      "Age        132.945920\n",
      "dtype: float64 \n",
      "\n",
      "\n"
     ]
    },
    {
     "name": "stderr",
     "output_type": "stream",
     "text": [
      "C:\\Users\\CYTECH~1\\AppData\\Local\\Temp/ipykernel_144/1708202318.py:4: FutureWarning: Dropping of nuisance columns in DataFrame reductions (with 'numeric_only=None') is deprecated; in a future version this will raise TypeError.  Select only valid columns before calling the reduction.\n",
      "  var_H = df_sexe_H.var()\n",
      "C:\\Users\\CYTECH~1\\AppData\\Local\\Temp/ipykernel_144/1708202318.py:5: FutureWarning: Dropping of nuisance columns in DataFrame reductions (with 'numeric_only=None') is deprecated; in a future version this will raise TypeError.  Select only valid columns before calling the reduction.\n",
      "  var_F = df_sexe_F.var()\n"
     ]
    }
   ],
   "source": [
    "# calcule de la variation intern de la variable Sexe\n",
    "eff_H = df_sexe_H['Salaire'].count()\n",
    "eff_F = df_sexe_F['Salaire'].count()\n",
    "var_H = df_sexe_H.var()\n",
    "var_F = df_sexe_F.var()\n",
    "print('variance :', var_H)\n",
    "print('effectif', eff_F)\n",
    "print('variance :', var_H)\n",
    "print('effectif', eff_F)\n",
    "var_intra = (eff_H*var_H +eff_F*var_F)/(eff_F+eff_H)\n",
    "print('\\n\\n variation intra : ', var_intra, '\\n\\n')\n"
   ]
  },
  {
   "cell_type": "code",
   "execution_count": 12,
   "metadata": {},
   "outputs": [
    {
     "name": "stdout",
     "output_type": "stream",
     "text": [
      "1.8468926031951242e-06\n",
      "\n",
      "\n",
      " variation inter :  32.03845969156894 \n",
      "\n",
      "\n"
     ]
    }
   ],
   "source": [
    "# Etude de la variation intern de la variable Sexe\n",
    "moy_H = df_sexe_H['Salaire'].mean()\n",
    "moy_F = df_sexe_F['Salaire'].mean()\n",
    "moy_global = (1/(eff_H+eff_F))/(eff_H*moy_H +eff_F*moy_F)\n",
    "print(moy_global)\n",
    "variation_inter = (eff_H*(moy_H-moy_global)+eff_F*(moy_F-moy_global))/(eff_H+eff_F)\n",
    "print('\\n\\n variation inter : ', variation_inter, '\\n\\n')"
   ]
  },
  {
   "cell_type": "code",
   "execution_count": 13,
   "metadata": {},
   "outputs": [
    {
     "data": {
      "text/plain": [
       "707.4719189808177"
      ]
     },
     "execution_count": 13,
     "metadata": {},
     "output_type": "execute_result"
    }
   ],
   "source": [
    "# Calcule de la variation globale\n",
    "var_global = var_intra['Salaire']+variation_inter\n",
    "var_global"
   ]
  },
  {
   "cell_type": "code",
   "execution_count": 14,
   "metadata": {},
   "outputs": [
    {
     "data": {
      "text/plain": [
       "0.04528583938387755"
      ]
     },
     "execution_count": 14,
     "metadata": {},
     "output_type": "execute_result"
    }
   ],
   "source": [
    "# Variable de corrélation \n",
    "variation_inter/var_global\n"
   ]
  },
  {
   "cell_type": "markdown",
   "metadata": {},
   "source": [
    "# Etude du salaire en fonction de l'établissement"
   ]
  },
  {
   "cell_type": "code",
   "execution_count": 15,
   "metadata": {},
   "outputs": [
    {
     "data": {
      "text/html": [
       "<div>\n",
       "<style scoped>\n",
       "    .dataframe tbody tr th:only-of-type {\n",
       "        vertical-align: middle;\n",
       "    }\n",
       "\n",
       "    .dataframe tbody tr th {\n",
       "        vertical-align: top;\n",
       "    }\n",
       "\n",
       "    .dataframe thead th {\n",
       "        text-align: right;\n",
       "    }\n",
       "</style>\n",
       "<table border=\"1\" class=\"dataframe\">\n",
       "  <thead>\n",
       "    <tr style=\"text-align: right;\">\n",
       "      <th></th>\n",
       "      <th>Etablissement</th>\n",
       "      <th>Salaire</th>\n",
       "      <th>Age</th>\n",
       "    </tr>\n",
       "  </thead>\n",
       "  <tbody>\n",
       "    <tr>\n",
       "      <th>0</th>\n",
       "      <td>A</td>\n",
       "      <td>140</td>\n",
       "      <td>58</td>\n",
       "    </tr>\n",
       "    <tr>\n",
       "      <th>1</th>\n",
       "      <td>A</td>\n",
       "      <td>120</td>\n",
       "      <td>55</td>\n",
       "    </tr>\n",
       "    <tr>\n",
       "      <th>5</th>\n",
       "      <td>A</td>\n",
       "      <td>115</td>\n",
       "      <td>42</td>\n",
       "    </tr>\n",
       "    <tr>\n",
       "      <th>9</th>\n",
       "      <td>A</td>\n",
       "      <td>95</td>\n",
       "      <td>59</td>\n",
       "    </tr>\n",
       "    <tr>\n",
       "      <th>10</th>\n",
       "      <td>A</td>\n",
       "      <td>60</td>\n",
       "      <td>58</td>\n",
       "    </tr>\n",
       "  </tbody>\n",
       "</table>\n",
       "</div>"
      ],
      "text/plain": [
       "   Etablissement  Salaire  Age\n",
       "0              A      140   58\n",
       "1              A      120   55\n",
       "5              A      115   42\n",
       "9              A       95   59\n",
       "10             A       60   58"
      ]
     },
     "execution_count": 15,
     "metadata": {},
     "output_type": "execute_result"
    }
   ],
   "source": [
    "# création des sous populations\n",
    "df_etablissement_A = df_etablissement[df_etablissement['Etablissement']== 'A']\n",
    "df_etablissement_B = df_etablissement[df_etablissement['Etablissement']== 'B']\n",
    "df_etablissement_C = df_etablissement[df_etablissement['Etablissement']== 'C']\n",
    "df_etablissement_A.head()"
   ]
  },
  {
   "cell_type": "code",
   "execution_count": 16,
   "metadata": {},
   "outputs": [
    {
     "name": "stdout",
     "output_type": "stream",
     "text": [
      "Indicateurs de position:\n",
      "Moyenne:\n",
      " Salaire    32.038462\n",
      "Age        33.200000\n",
      "dtype: float64 \n",
      "\n",
      "Médiane:\n",
      " Salaire    23.0\n",
      "Age        30.5\n",
      "dtype: float64 \n",
      "\n",
      "Quantiles:\n",
      "       Salaire   Age\n",
      "0.25     21.0  23.0\n",
      "0.50     23.0  30.5\n",
      "0.75     26.0  42.0\n",
      "\n",
      "Indicateurs de dispersion: \n",
      "Écart-type:\n",
      " Salaire    26.085252\n",
      "Age        11.999612\n",
      "dtype: float64 \n",
      "\n",
      "Variance:\n",
      " Salaire    680.440370\n",
      "Age        143.990698\n",
      "dtype: float64 \n",
      "\n",
      "Écart interquartile (IQR):\n",
      " Salaire     5.0\n",
      "Age        19.0\n",
      "dtype: float64\n"
     ]
    },
    {
     "name": "stderr",
     "output_type": "stream",
     "text": [
      "C:\\Users\\CYTECH~1\\AppData\\Local\\Temp/ipykernel_144/2778634770.py:2: FutureWarning: Dropping of nuisance columns in DataFrame reductions (with 'numeric_only=None') is deprecated; in a future version this will raise TypeError.  Select only valid columns before calling the reduction.\n",
      "  mean = df_etablissement.mean()\n",
      "C:\\Users\\CYTECH~1\\AppData\\Local\\Temp/ipykernel_144/2778634770.py:3: FutureWarning: Dropping of nuisance columns in DataFrame reductions (with 'numeric_only=None') is deprecated; in a future version this will raise TypeError.  Select only valid columns before calling the reduction.\n",
      "  median = df_etablissement.median()\n",
      "C:\\Users\\CYTECH~1\\AppData\\Local\\Temp/ipykernel_144/2778634770.py:7: FutureWarning: Dropping of nuisance columns in DataFrame reductions (with 'numeric_only=None') is deprecated; in a future version this will raise TypeError.  Select only valid columns before calling the reduction.\n",
      "  std_dev = df_etablissement.std()\n",
      "C:\\Users\\CYTECH~1\\AppData\\Local\\Temp/ipykernel_144/2778634770.py:8: FutureWarning: Dropping of nuisance columns in DataFrame reductions (with 'numeric_only=None') is deprecated; in a future version this will raise TypeError.  Select only valid columns before calling the reduction.\n",
      "  variance = df_etablissement.var()\n"
     ]
    }
   ],
   "source": [
    "# Indicateurs de position\n",
    "mean = df_etablissement.mean()\n",
    "median = df_etablissement.median()\n",
    "quantiles = df_etablissement.quantile([0.25, 0.5, 0.75])\n",
    "\n",
    "# Indicateurs de dispersion\n",
    "std_dev = df_etablissement.std()\n",
    "variance = df_etablissement.var()\n",
    "iqr = df_etablissement.quantile(0.75) - df_etablissement.quantile(0.25)\n",
    "\n",
    "print(\"Indicateurs de position:\")\n",
    "print(\"Moyenne:\\n\", mean, \"\\n\\nMédiane:\\n\", median, \"\\n\\nQuantiles:\\n\", quantiles)\n",
    "\n",
    "print(\"\\nIndicateurs de dispersion:\", \"\\nÉcart-type:\\n\", std_dev, \"\\n\\nVariance:\\n\", variance, \"\\n\\nÉcart interquartile (IQR):\\n\", iqr)"
   ]
  },
  {
   "cell_type": "code",
   "execution_count": 17,
   "metadata": {},
   "outputs": [
    {
     "data": {
      "image/png": "[encoded data removed]",
      "text/plain": [
       "<Figure size 432x288 with 1 Axes>"
      ]
     },
     "metadata": {
      "needs_background": "light"
     },
     "output_type": "display_data"
    }
   ],
   "source": [
    "# boite de Tukey des Salaire par Etablissement\n",
    "df_etablissement.boxplot(column='Salaire', by='Etablissement', showmeans=True, notch= True)\n",
    "plt.ylabel('euros')\n",
    "plt.title('Boxplot des salaires par Etablissement')\n",
    "plt.suptitle('')\n",
    "plt.show() "
   ]
  },
  {
   "cell_type": "code",
   "execution_count": 18,
   "metadata": {},
   "outputs": [
    {
     "data": {
      "image/png": "[encoded data removed]",
      "text/plain": [
       "<Figure size 432x288 with 1 Axes>"
      ]
     },
     "metadata": {
      "needs_background": "light"
     },
     "output_type": "display_data"
    }
   ],
   "source": [
    "# histogramme pour la variables Etablissement pour le salaire et l'age\n",
    "# histogrammes pour la variables sexe pour le salaire\n",
    "df_etablissement_A['Salaire'].plot(kind='hist', bins=20, color='blue', alpha=0.5, label='Etablissement A')\n",
    "df_etablissement_B['Salaire'].plot(kind='hist', bins=20, color='red', alpha=0.8, label='Etablissement B')\n",
    "df_etablissement_C['Salaire'].plot(kind='hist', bins=20, color='green', alpha=0.8, label='Etalissement C')\n",
    "plt.xlabel('Salaire')\n",
    "plt.ylabel('Nombre de personnes')\n",
    "plt.title('Histogramme des salaires par sexe')\n",
    "plt.legend()\n",
    "plt.show()"
   ]
  },
  {
   "cell_type": "code",
   "execution_count": 19,
   "metadata": {},
   "outputs": [
    {
     "name": "stdout",
     "output_type": "stream",
     "text": [
      "variance : Salaire    628.501695\n",
      "Age        129.117514\n",
      "dtype: float64\n",
      "effectif 60\n",
      "variance : Salaire    484.173718\n",
      "Age        144.356410\n",
      "dtype: float64\n",
      "effectif 40\n",
      "variance : Salaire    1045.222989\n",
      "Age         173.236782\n",
      "dtype: float64\n",
      "effectif 30\n",
      "\n",
      "\n",
      " variation intra :  Salaire    680.259539\n",
      "Age        143.987775\n",
      "dtype: float64 \n",
      "\n",
      "\n"
     ]
    },
    {
     "name": "stderr",
     "output_type": "stream",
     "text": [
      "C:\\Users\\CYTECH~1\\AppData\\Local\\Temp/ipykernel_144/3543720702.py:5: FutureWarning: Dropping of nuisance columns in DataFrame reductions (with 'numeric_only=None') is deprecated; in a future version this will raise TypeError.  Select only valid columns before calling the reduction.\n",
      "  var_A = df_etablissement_A.var()\n",
      "C:\\Users\\CYTECH~1\\AppData\\Local\\Temp/ipykernel_144/3543720702.py:6: FutureWarning: Dropping of nuisance columns in DataFrame reductions (with 'numeric_only=None') is deprecated; in a future version this will raise TypeError.  Select only valid columns before calling the reduction.\n",
      "  var_B = df_etablissement_B.var()\n",
      "C:\\Users\\CYTECH~1\\AppData\\Local\\Temp/ipykernel_144/3543720702.py:7: FutureWarning: Dropping of nuisance columns in DataFrame reductions (with 'numeric_only=None') is deprecated; in a future version this will raise TypeError.  Select only valid columns before calling the reduction.\n",
      "  var_C = df_etablissement_C.var()\n"
     ]
    }
   ],
   "source": [
    "# calcule de la variation intern de la variable Etablissement\n",
    "eff_A = df_etablissement_A['Salaire'].count()\n",
    "eff_B = df_etablissement_B['Salaire'].count()\n",
    "eff_C = df_etablissement_C['Salaire'].count()\n",
    "var_A = df_etablissement_A.var()\n",
    "var_B = df_etablissement_B.var()\n",
    "var_C = df_etablissement_C.var()\n",
    "print('variance :', var_A)\n",
    "print('effectif', eff_A)\n",
    "print('variance :', var_B)\n",
    "print('effectif', eff_B)\n",
    "print('variance :', var_C)\n",
    "print('effectif', eff_C)\n",
    "var_intra = (eff_A*var_A +eff_B*var_B+eff_C*var_C)/(eff_C+eff_B+eff_A)\n",
    "print('\\n\\n variation intra : ', var_intra, '\\n\\n')\n"
   ]
  },
  {
   "cell_type": "code",
   "execution_count": 20,
   "metadata": {},
   "outputs": [
    {
     "name": "stdout",
     "output_type": "stream",
     "text": [
      "1.8468926031951242e-06\n",
      "\n",
      "\n",
      " variation inter :  32.03845969156894 \n",
      "\n",
      "\n"
     ]
    }
   ],
   "source": [
    "# Etude de la variation extern de la variable Etablissement\n",
    "moy_A = df_etablissement_A['Salaire'].mean()\n",
    "moy_B = df_etablissement_B['Salaire'].mean()\n",
    "moy_C = df_etablissement_C['Salaire'].mean()\n",
    "moy_global = (1/(eff_C+eff_B+eff_A))/(eff_A*moy_A +eff_B*moy_B+eff_C*moy_C)\n",
    "print(moy_global)\n",
    "variation_inter = (eff_A*(moy_A-moy_global)+eff_B*(moy_B-moy_global)+eff_C*(moy_C-moy_global))/(eff_C+eff_B+eff_A)\n",
    "print('\\n\\n variation inter : ', variation_inter, '\\n\\n')"
   ]
  },
  {
   "cell_type": "code",
   "execution_count": 21,
   "metadata": {},
   "outputs": [],
   "source": [
    "# Calcule de la variation globale\n",
    "var_global = var_intra['Salaire']+variation_inter"
   ]
  },
  {
   "cell_type": "code",
   "execution_count": 22,
   "metadata": {},
   "outputs": [
    {
     "data": {
      "text/plain": [
       "0.04497901124403027"
      ]
     },
     "execution_count": 22,
     "metadata": {},
     "output_type": "execute_result"
    }
   ],
   "source": [
    "# Variable de corrélation \n",
    "variation_inter/var_global\n"
   ]
  },
  {
   "cell_type": "markdown",
   "metadata": {},
   "source": [
    "# Etude du salaire en fonction de la catégorie"
   ]
  },
  {
   "cell_type": "code",
   "execution_count": 23,
   "metadata": {},
   "outputs": [
    {
     "data": {
      "text/html": [
       "<div>\n",
       "<style scoped>\n",
       "    .dataframe tbody tr th:only-of-type {\n",
       "        vertical-align: middle;\n",
       "    }\n",
       "\n",
       "    .dataframe tbody tr th {\n",
       "        vertical-align: top;\n",
       "    }\n",
       "\n",
       "    .dataframe thead th {\n",
       "        text-align: right;\n",
       "    }\n",
       "</style>\n",
       "<table border=\"1\" class=\"dataframe\">\n",
       "  <thead>\n",
       "    <tr style=\"text-align: right;\">\n",
       "      <th></th>\n",
       "      <th>Categorie</th>\n",
       "      <th>Salaire</th>\n",
       "      <th>Age</th>\n",
       "    </tr>\n",
       "  </thead>\n",
       "  <tbody>\n",
       "    <tr>\n",
       "      <th>30</th>\n",
       "      <td>OE</td>\n",
       "      <td>26</td>\n",
       "      <td>55</td>\n",
       "    </tr>\n",
       "    <tr>\n",
       "      <th>31</th>\n",
       "      <td>OE</td>\n",
       "      <td>26</td>\n",
       "      <td>52</td>\n",
       "    </tr>\n",
       "    <tr>\n",
       "      <th>32</th>\n",
       "      <td>OE</td>\n",
       "      <td>26</td>\n",
       "      <td>37</td>\n",
       "    </tr>\n",
       "    <tr>\n",
       "      <th>33</th>\n",
       "      <td>OE</td>\n",
       "      <td>26</td>\n",
       "      <td>42</td>\n",
       "    </tr>\n",
       "    <tr>\n",
       "      <th>34</th>\n",
       "      <td>OE</td>\n",
       "      <td>26</td>\n",
       "      <td>29</td>\n",
       "    </tr>\n",
       "  </tbody>\n",
       "</table>\n",
       "</div>"
      ],
      "text/plain": [
       "   Categorie  Salaire  Age\n",
       "30        OE       26   55\n",
       "31        OE       26   52\n",
       "32        OE       26   37\n",
       "33        OE       26   42\n",
       "34        OE       26   29"
      ]
     },
     "execution_count": 23,
     "metadata": {},
     "output_type": "execute_result"
    }
   ],
   "source": [
    "# création des sous populations\n",
    "df_categorie_CS = df_categorie[df_categorie['Categorie']== 'CS']\n",
    "df_categorie_CM = df_categorie[df_categorie['Categorie']== 'CM']\n",
    "df_categorie_OE = df_categorie[df_categorie['Categorie']== 'OE']\n",
    "df_categorie_OE.head()"
   ]
  },
  {
   "cell_type": "code",
   "execution_count": 24,
   "metadata": {},
   "outputs": [
    {
     "name": "stdout",
     "output_type": "stream",
     "text": [
      "Indicateurs de position:\n",
      "Moyenne:\n",
      " Salaire    32.038462\n",
      "Age        33.200000\n",
      "dtype: float64 \n",
      "\n",
      "Médiane:\n",
      " Salaire    23.0\n",
      "Age        30.5\n",
      "dtype: float64 \n",
      "\n",
      "Quantiles:\n",
      "       Salaire   Age\n",
      "0.25     21.0  23.0\n",
      "0.50     23.0  30.5\n",
      "0.75     26.0  42.0\n",
      "\n",
      "Indicateurs de dispersion: \n",
      "Écart-type:\n",
      " Salaire    26.085252\n",
      "Age        11.999612\n",
      "dtype: float64 \n",
      "\n",
      "Variance:\n",
      " Salaire    680.440370\n",
      "Age        143.990698\n",
      "dtype: float64 \n",
      "\n",
      "Écart interquartile (IQR):\n",
      " Salaire     5.0\n",
      "Age        19.0\n",
      "dtype: float64\n"
     ]
    },
    {
     "name": "stderr",
     "output_type": "stream",
     "text": [
      "C:\\Users\\CYTECH~1\\AppData\\Local\\Temp/ipykernel_144/3873683238.py:2: FutureWarning: Dropping of nuisance columns in DataFrame reductions (with 'numeric_only=None') is deprecated; in a future version this will raise TypeError.  Select only valid columns before calling the reduction.\n",
      "  mean = df_categorie.mean()\n",
      "C:\\Users\\CYTECH~1\\AppData\\Local\\Temp/ipykernel_144/3873683238.py:3: FutureWarning: Dropping of nuisance columns in DataFrame reductions (with 'numeric_only=None') is deprecated; in a future version this will raise TypeError.  Select only valid columns before calling the reduction.\n",
      "  median = df_categorie.median()\n",
      "C:\\Users\\CYTECH~1\\AppData\\Local\\Temp/ipykernel_144/3873683238.py:7: FutureWarning: Dropping of nuisance columns in DataFrame reductions (with 'numeric_only=None') is deprecated; in a future version this will raise TypeError.  Select only valid columns before calling the reduction.\n",
      "  std_dev = df_categorie.std()\n",
      "C:\\Users\\CYTECH~1\\AppData\\Local\\Temp/ipykernel_144/3873683238.py:8: FutureWarning: Dropping of nuisance columns in DataFrame reductions (with 'numeric_only=None') is deprecated; in a future version this will raise TypeError.  Select only valid columns before calling the reduction.\n",
      "  variance = df_categorie.var()\n"
     ]
    }
   ],
   "source": [
    "# Indicateurs de position\n",
    "mean = df_categorie.mean()\n",
    "median = df_categorie.median()\n",
    "quantiles = df_categorie.quantile([0.25, 0.5, 0.75])\n",
    "\n",
    "# Indicateurs de dispersion\n",
    "std_dev = df_categorie.std()\n",
    "variance = df_categorie.var()\n",
    "iqr = df_categorie.quantile(0.75) - df_categorie.quantile(0.25)\n",
    "\n",
    "print(\"Indicateurs de position:\")\n",
    "print(\"Moyenne:\\n\", mean, \"\\n\\nMédiane:\\n\", median, \"\\n\\nQuantiles:\\n\", quantiles)\n",
    "\n",
    "print(\"\\nIndicateurs de dispersion:\", \"\\nÉcart-type:\\n\", std_dev, \"\\n\\nVariance:\\n\", variance, \"\\n\\nÉcart interquartile (IQR):\\n\", iqr)"
   ]
  },
  {
   "cell_type": "code",
   "execution_count": 25,
   "metadata": {},
   "outputs": [
    {
     "data": {
      "image/png": "[encoded data removed]",
      "text/plain": [
       "<Figure size 432x288 with 1 Axes>"
      ]
     },
     "metadata": {
      "needs_background": "light"
     },
     "output_type": "display_data"
    }
   ],
   "source": [
    "# boite de Tukey des Salaire par Categorie\n",
    "df_categorie.boxplot(column='Salaire', by='Categorie', showmeans=True, notch = True)\n",
    "plt.ylabel('euros')\n",
    "plt.suptitle('')\n",
    "plt.title('Boxplot des salaires par Categorie')\n",
    "plt.show()  "
   ]
  },
  {
   "cell_type": "code",
   "execution_count": 26,
   "metadata": {},
   "outputs": [
    {
     "data": {
      "image/png": "[encoded data removed]",
      "text/plain": [
       "<Figure size 432x288 with 1 Axes>"
      ]
     },
     "metadata": {
      "needs_background": "light"
     },
     "output_type": "display_data"
    }
   ],
   "source": [
    "# histogramme pour la variables Categorie pour le salaire et l'age\n",
    "df_categorie_CM['Salaire'].plot(kind='hist', bins=10, color='blue', alpha=0.5, label='Categorie CM')\n",
    "df_categorie_CS['Salaire'].plot(kind='hist', bins=10, color='red', alpha=0.5, label='Catégorie CS')\n",
    "df_categorie_OE['Salaire'].plot(kind='hist', bins=10, color='green', alpha=0.5, label='Catégorie OE')\n",
    "plt.xlabel('Salaire')\n",
    "plt.ylabel('Nombre de personnes')\n",
    "plt.title('Histogramme des salaires par sexe')\n",
    "plt.legend()\n",
    "plt.show()"
   ]
  },
  {
   "cell_type": "code",
   "execution_count": 27,
   "metadata": {},
   "outputs": [
    {
     "name": "stdout",
     "output_type": "stream",
     "text": [
      "variance : Salaire    116.933333\n",
      "Age         44.100000\n",
      "dtype: float64\n",
      "effectif 10\n",
      "variance : Salaire    135.726316\n",
      "Age         86.484211\n",
      "dtype: float64\n",
      "effectif 20\n",
      "variance : Salaire     6.037475\n",
      "Age        79.218081\n",
      "dtype: float64\n",
      "effectif 100\n",
      "\n",
      "\n",
      " variation intra :  Salaire    34.520055\n",
      "Age        77.634556\n",
      "dtype: float64 \n",
      "\n",
      "\n"
     ]
    },
    {
     "name": "stderr",
     "output_type": "stream",
     "text": [
      "C:\\Users\\CYTECH~1\\AppData\\Local\\Temp/ipykernel_144/4112694653.py:5: FutureWarning: Dropping of nuisance columns in DataFrame reductions (with 'numeric_only=None') is deprecated; in a future version this will raise TypeError.  Select only valid columns before calling the reduction.\n",
      "  var_A = df_categorie_CS.var()\n",
      "C:\\Users\\CYTECH~1\\AppData\\Local\\Temp/ipykernel_144/4112694653.py:6: FutureWarning: Dropping of nuisance columns in DataFrame reductions (with 'numeric_only=None') is deprecated; in a future version this will raise TypeError.  Select only valid columns before calling the reduction.\n",
      "  var_B = df_categorie_CM.var()\n",
      "C:\\Users\\CYTECH~1\\AppData\\Local\\Temp/ipykernel_144/4112694653.py:7: FutureWarning: Dropping of nuisance columns in DataFrame reductions (with 'numeric_only=None') is deprecated; in a future version this will raise TypeError.  Select only valid columns before calling the reduction.\n",
      "  var_C = df_categorie_OE.var()\n"
     ]
    }
   ],
   "source": [
    "# calcule de la variation intern de la variable Categorie\n",
    "eff_A = df_categorie_CS['Salaire'].count()\n",
    "eff_B = df_categorie_CM['Salaire'].count()\n",
    "eff_C = df_categorie_OE['Salaire'].count()\n",
    "var_A = df_categorie_CS.var()\n",
    "var_B = df_categorie_CM.var()\n",
    "var_C = df_categorie_OE.var()\n",
    "print('variance :', var_A)\n",
    "print('effectif', eff_A)\n",
    "print('variance :', var_B)\n",
    "print('effectif', eff_B)\n",
    "print('variance :', var_C)\n",
    "print('effectif', eff_C)\n",
    "var_intra = (eff_A*var_A +eff_B*var_B+eff_C*var_C)/(eff_C+eff_B+eff_A)\n",
    "print('\\n\\n variation intra : ', var_intra, '\\n\\n')\n"
   ]
  },
  {
   "cell_type": "code",
   "execution_count": 28,
   "metadata": {},
   "outputs": [
    {
     "name": "stdout",
     "output_type": "stream",
     "text": [
      "1.8468926031951242e-06\n",
      "\n",
      "\n",
      " variation inter :  32.03845969156894 \n",
      "\n",
      "\n"
     ]
    }
   ],
   "source": [
    "# Etude de la variation extern de la variable Categorie\n",
    "moy_A = df_categorie_CS['Salaire'].mean()\n",
    "moy_B = df_categorie_CM['Salaire'].mean()\n",
    "moy_C = df_categorie_OE['Salaire'].mean()\n",
    "moy_global = (1/(eff_C+eff_B+eff_A))/(eff_A*moy_A +eff_B*moy_B+eff_C*moy_C)\n",
    "print(moy_global)\n",
    "variation_inter = (eff_A*(moy_A-moy_global)+eff_B*(moy_B-moy_global)+eff_C*(moy_C-moy_global))/(eff_C+eff_B+eff_A)\n",
    "print('\\n\\n variation inter : ', variation_inter, '\\n\\n')"
   ]
  },
  {
   "cell_type": "code",
   "execution_count": 29,
   "metadata": {},
   "outputs": [
    {
     "data": {
      "text/plain": [
       "66.55851449057111"
      ]
     },
     "execution_count": 29,
     "metadata": {},
     "output_type": "execute_result"
    }
   ],
   "source": [
    "# Calcule de la variation globale\n",
    "var_global = var_intra['Salaire']+variation_inter\n",
    "var_global"
   ]
  },
  {
   "cell_type": "code",
   "execution_count": 30,
   "metadata": {},
   "outputs": [
    {
     "data": {
      "text/plain": [
       "0.4813577937666804"
      ]
     },
     "execution_count": 30,
     "metadata": {},
     "output_type": "execute_result"
    }
   ],
   "source": [
    "# Variable de corrélation \n",
    "variation_inter/var_global\n"
   ]
  },
  {
   "cell_type": "code",
   "execution_count": 31,
   "metadata": {},
   "outputs": [],
   "source": [
    "# Calcule de la variation globale\n",
    "var_global = var_intra['Salaire']+variation_inter"
   ]
  },
  {
   "cell_type": "markdown",
   "metadata": {},
   "source": [
    "On change la variable 'Age' de quantitatif à qualitatif : "
   ]
  },
  {
   "cell_type": "code",
   "execution_count": 32,
   "metadata": {},
   "outputs": [
    {
     "data": {
      "text/html": [
       "<div>\n",
       "<style scoped>\n",
       "    .dataframe tbody tr th:only-of-type {\n",
       "        vertical-align: middle;\n",
       "    }\n",
       "\n",
       "    .dataframe tbody tr th {\n",
       "        vertical-align: top;\n",
       "    }\n",
       "\n",
       "    .dataframe thead th {\n",
       "        text-align: right;\n",
       "    }\n",
       "</style>\n",
       "<table border=\"1\" class=\"dataframe\">\n",
       "  <thead>\n",
       "    <tr style=\"text-align: right;\">\n",
       "      <th></th>\n",
       "      <th>Age_Catégorie</th>\n",
       "      <th>Salaire</th>\n",
       "    </tr>\n",
       "  </thead>\n",
       "  <tbody>\n",
       "    <tr>\n",
       "      <th>0</th>\n",
       "      <td>Vieux</td>\n",
       "      <td>140</td>\n",
       "    </tr>\n",
       "    <tr>\n",
       "      <th>1</th>\n",
       "      <td>Vieux</td>\n",
       "      <td>120</td>\n",
       "    </tr>\n",
       "    <tr>\n",
       "      <th>2</th>\n",
       "      <td>Moyen</td>\n",
       "      <td>118</td>\n",
       "    </tr>\n",
       "    <tr>\n",
       "      <th>3</th>\n",
       "      <td>Moyen</td>\n",
       "      <td>117</td>\n",
       "    </tr>\n",
       "    <tr>\n",
       "      <th>4</th>\n",
       "      <td>Moyen</td>\n",
       "      <td>117</td>\n",
       "    </tr>\n",
       "  </tbody>\n",
       "</table>\n",
       "</div>"
      ],
      "text/plain": [
       "  Age_Catégorie  Salaire\n",
       "0         Vieux      140\n",
       "1         Vieux      120\n",
       "2         Moyen      118\n",
       "3         Moyen      117\n",
       "4         Moyen      117"
      ]
     },
     "execution_count": 32,
     "metadata": {},
     "output_type": "execute_result"
    }
   ],
   "source": [
    "# changement qualitatif en quantitatif de la variable Age\n",
    "intervals = [0, 35, 55, 100]\n",
    "colonnes = ['Jeune', 'Moyen', 'Vieux']\n",
    "df['Age_Catégorie'] = pd.cut(df['Age'], bins=intervals, labels=colonnes, right=False)\n",
    "df_age = df[['Age_Catégorie', 'Salaire']]\n",
    "df_age.head()"
   ]
  },
  {
   "cell_type": "code",
   "execution_count": 33,
   "metadata": {},
   "outputs": [
    {
     "data": {
      "text/html": [
       "<div>\n",
       "<style scoped>\n",
       "    .dataframe tbody tr th:only-of-type {\n",
       "        vertical-align: middle;\n",
       "    }\n",
       "\n",
       "    .dataframe tbody tr th {\n",
       "        vertical-align: top;\n",
       "    }\n",
       "\n",
       "    .dataframe thead th {\n",
       "        text-align: right;\n",
       "    }\n",
       "</style>\n",
       "<table border=\"1\" class=\"dataframe\">\n",
       "  <thead>\n",
       "    <tr style=\"text-align: right;\">\n",
       "      <th></th>\n",
       "      <th>Age_Catégorie</th>\n",
       "      <th>Salaire</th>\n",
       "    </tr>\n",
       "  </thead>\n",
       "  <tbody>\n",
       "    <tr>\n",
       "      <th>0</th>\n",
       "      <td>Vieux</td>\n",
       "      <td>140</td>\n",
       "    </tr>\n",
       "    <tr>\n",
       "      <th>1</th>\n",
       "      <td>Vieux</td>\n",
       "      <td>120</td>\n",
       "    </tr>\n",
       "    <tr>\n",
       "      <th>7</th>\n",
       "      <td>Vieux</td>\n",
       "      <td>114</td>\n",
       "    </tr>\n",
       "    <tr>\n",
       "      <th>8</th>\n",
       "      <td>Vieux</td>\n",
       "      <td>113</td>\n",
       "    </tr>\n",
       "    <tr>\n",
       "      <th>9</th>\n",
       "      <td>Vieux</td>\n",
       "      <td>95</td>\n",
       "    </tr>\n",
       "  </tbody>\n",
       "</table>\n",
       "</div>"
      ],
      "text/plain": [
       "  Age_Catégorie  Salaire\n",
       "0         Vieux      140\n",
       "1         Vieux      120\n",
       "7         Vieux      114\n",
       "8         Vieux      113\n",
       "9         Vieux       95"
      ]
     },
     "execution_count": 33,
     "metadata": {},
     "output_type": "execute_result"
    }
   ],
   "source": [
    "# création des sous populations\n",
    "df_age_J = df_age[df_age['Age_Catégorie']== 'Jeune']\n",
    "df_age_M = df_age[df_age['Age_Catégorie']== 'Moyen']\n",
    "df_age_V = df_age[df_age['Age_Catégorie']== 'Vieux']\n",
    "df_age_V.head()"
   ]
  },
  {
   "cell_type": "markdown",
   "metadata": {},
   "source": [
    "# Etude du salaire de la variable Age"
   ]
  },
  {
   "cell_type": "code",
   "execution_count": 34,
   "metadata": {},
   "outputs": [
    {
     "name": "stdout",
     "output_type": "stream",
     "text": [
      "Indicateurs de position:\n",
      "Moyenne:\n",
      " Salaire    32.038462\n",
      "dtype: float64 \n",
      "\n",
      "Médiane:\n",
      " Salaire    23.0\n",
      "dtype: float64 \n",
      "\n",
      "Quantiles:\n",
      "       Salaire\n",
      "0.25     21.0\n",
      "0.50     23.0\n",
      "0.75     26.0\n",
      "\n",
      "Indicateurs de dispersion: \n",
      "Écart-type:\n",
      " Salaire    26.085252\n",
      "dtype: float64 \n",
      "\n",
      "Variance:\n",
      " Salaire    680.44037\n",
      "dtype: float64 \n",
      "\n",
      "Écart interquartile (IQR):\n",
      " Salaire    5.0\n",
      "dtype: float64\n"
     ]
    },
    {
     "name": "stderr",
     "output_type": "stream",
     "text": [
      "C:\\Users\\CYTECH~1\\AppData\\Local\\Temp/ipykernel_144/3390936153.py:2: FutureWarning: Dropping of nuisance columns in DataFrame reductions (with 'numeric_only=None') is deprecated; in a future version this will raise TypeError.  Select only valid columns before calling the reduction.\n",
      "  mean = df_age.mean()\n",
      "C:\\Users\\CYTECH~1\\AppData\\Local\\Temp/ipykernel_144/3390936153.py:3: FutureWarning: Dropping of nuisance columns in DataFrame reductions (with 'numeric_only=None') is deprecated; in a future version this will raise TypeError.  Select only valid columns before calling the reduction.\n",
      "  median = df_age.median()\n",
      "C:\\Users\\CYTECH~1\\AppData\\Local\\Temp/ipykernel_144/3390936153.py:7: FutureWarning: Dropping of nuisance columns in DataFrame reductions (with 'numeric_only=None') is deprecated; in a future version this will raise TypeError.  Select only valid columns before calling the reduction.\n",
      "  std_dev = df_age.std()\n",
      "C:\\Users\\CYTECH~1\\AppData\\Local\\Temp/ipykernel_144/3390936153.py:8: FutureWarning: Dropping of nuisance columns in DataFrame reductions (with 'numeric_only=None') is deprecated; in a future version this will raise TypeError.  Select only valid columns before calling the reduction.\n",
      "  variance = df_age.var()\n"
     ]
    }
   ],
   "source": [
    "# Indicateurs de position\n",
    "mean = df_age.mean()\n",
    "median = df_age.median()\n",
    "quantiles = df_age.quantile([0.25, 0.5, 0.75])\n",
    "\n",
    "# Indicateurs de dispersion\n",
    "std_dev = df_age.std()\n",
    "variance = df_age.var()\n",
    "iqr = df_age.quantile(0.75) - df_age.quantile(0.25)\n",
    "\n",
    "print(\"Indicateurs de position:\")\n",
    "print(\"Moyenne:\\n\", mean, \"\\n\\nMédiane:\\n\", median, \"\\n\\nQuantiles:\\n\", quantiles)\n",
    "\n",
    "print(\"\\nIndicateurs de dispersion:\", \"\\nÉcart-type:\\n\", std_dev, \"\\n\\nVariance:\\n\", variance, \"\\n\\nÉcart interquartile (IQR):\\n\", iqr)"
   ]
  },
  {
   "cell_type": "code",
   "execution_count": 35,
   "metadata": {},
   "outputs": [
    {
     "data": {
      "image/png": "[encoded data removed]",
      "text/plain": [
       "<Figure size 432x288 with 1 Axes>"
      ]
     },
     "metadata": {
      "needs_background": "light"
     },
     "output_type": "display_data"
    }
   ],
   "source": [
    "# boite de Tukey des Salaire par Categorie\n",
    "df_age.boxplot(column='Salaire', by='Age_Catégorie', showmeans=True, notch = True)\n",
    "plt.ylabel('euros')\n",
    "plt.suptitle('')\n",
    "plt.title('Boxplot des salaires par Categorie')\n",
    "plt.show()  "
   ]
  },
  {
   "cell_type": "code",
   "execution_count": 36,
   "metadata": {},
   "outputs": [
    {
     "data": {
      "image/png": "[encoded data removed]",
      "text/plain": [
       "<Figure size 432x288 with 1 Axes>"
      ]
     },
     "metadata": {
      "needs_background": "light"
     },
     "output_type": "display_data"
    }
   ],
   "source": [
    "# histogramme pour la variables Categorie pour le salaire et l'age\n",
    "df_age_J['Salaire'].plot(kind='hist', bins=10, color='blue', alpha=0.5, label='Jeune')\n",
    "df_age_M['Salaire'].plot(kind='hist', bins=10, color='red', alpha=0.5, label='Moyen')\n",
    "df_age_V['Salaire'].plot(kind='hist', bins=10, color='green', alpha=0.5, label='Vieux')\n",
    "plt.xlabel('Salaire')\n",
    "plt.ylabel('Nombre de personnes')\n",
    "plt.title('Histogramme des salaires par sexe')\n",
    "plt.legend()\n",
    "plt.show()"
   ]
  },
  {
   "cell_type": "code",
   "execution_count": 37,
   "metadata": {},
   "outputs": [
    {
     "name": "stdout",
     "output_type": "stream",
     "text": [
      "variance : Salaire    8.868465\n",
      "dtype: float64\n",
      "effectif 78\n",
      "variance : Salaire    935.589744\n",
      "dtype: float64\n",
      "effectif 40\n",
      "variance : Salaire    1936.265152\n",
      "dtype: float64\n",
      "effectif 12\n",
      "\n",
      "\n",
      " variation intra :  Salaire    471.927014\n",
      "dtype: float64 \n",
      "\n",
      "\n"
     ]
    },
    {
     "name": "stderr",
     "output_type": "stream",
     "text": [
      "C:\\Users\\CYTECH~1\\AppData\\Local\\Temp/ipykernel_144/674260205.py:5: FutureWarning: Dropping of nuisance columns in DataFrame reductions (with 'numeric_only=None') is deprecated; in a future version this will raise TypeError.  Select only valid columns before calling the reduction.\n",
      "  var_A = df_age_J.var()\n",
      "C:\\Users\\CYTECH~1\\AppData\\Local\\Temp/ipykernel_144/674260205.py:6: FutureWarning: Dropping of nuisance columns in DataFrame reductions (with 'numeric_only=None') is deprecated; in a future version this will raise TypeError.  Select only valid columns before calling the reduction.\n",
      "  var_B = df_age_M.var()\n",
      "C:\\Users\\CYTECH~1\\AppData\\Local\\Temp/ipykernel_144/674260205.py:7: FutureWarning: Dropping of nuisance columns in DataFrame reductions (with 'numeric_only=None') is deprecated; in a future version this will raise TypeError.  Select only valid columns before calling the reduction.\n",
      "  var_C = df_age_V.var()\n"
     ]
    }
   ],
   "source": [
    "# calcule de la variation intern de la variable Age\n",
    "eff_A = df_age_J['Salaire'].count()\n",
    "eff_B = df_age_M['Salaire'].count()\n",
    "eff_C = df_age_V['Salaire'].count()\n",
    "var_A = df_age_J.var()\n",
    "var_B = df_age_M.var()\n",
    "var_C = df_age_V.var()\n",
    "print('variance :', var_A)\n",
    "print('effectif', eff_A)\n",
    "print('variance :', var_B)\n",
    "print('effectif', eff_B)\n",
    "print('variance :', var_C)\n",
    "print('effectif', eff_C)\n",
    "var_intra = (eff_A*var_A +eff_B*var_B+eff_C*var_C)/(eff_C+eff_B+eff_A)\n",
    "print('\\n\\n variation intra : ', var_intra, '\\n\\n')\n"
   ]
  },
  {
   "cell_type": "code",
   "execution_count": 38,
   "metadata": {},
   "outputs": [
    {
     "name": "stdout",
     "output_type": "stream",
     "text": [
      "1.8468926031951242e-06\n",
      "\n",
      "\n",
      " variation inter :  32.03845969156894 \n",
      "\n",
      "\n"
     ]
    }
   ],
   "source": [
    "# Etude de la variation extern de la variable Age\n",
    "moy_A = df_age_J['Salaire'].mean()\n",
    "moy_B = df_age_M['Salaire'].mean()\n",
    "moy_C = df_age_V['Salaire'].mean()\n",
    "moy_global = (1/(eff_C+eff_B+eff_A))/(eff_A*moy_A +eff_B*moy_B+eff_C*moy_C)\n",
    "print(moy_global)\n",
    "variation_inter = (eff_A*(moy_A-moy_global)+eff_B*(moy_B-moy_global)+eff_C*(moy_C-moy_global))/(eff_C+eff_B+eff_A)\n",
    "print('\\n\\n variation inter : ', variation_inter, '\\n\\n')"
   ]
  },
  {
   "cell_type": "code",
   "execution_count": 39,
   "metadata": {},
   "outputs": [
    {
     "data": {
      "text/plain": [
       "503.9654737031984"
      ]
     },
     "execution_count": 39,
     "metadata": {},
     "output_type": "execute_result"
    }
   ],
   "source": [
    "# Calcule de la variation globale\n",
    "var_global = var_intra['Salaire']+variation_inter\n",
    "var_global"
   ]
  },
  {
   "cell_type": "code",
   "execution_count": 40,
   "metadata": {},
   "outputs": [
    {
     "data": {
      "text/plain": [
       "0.06357272742544547"
      ]
     },
     "execution_count": 40,
     "metadata": {},
     "output_type": "execute_result"
    }
   ],
   "source": [
    "# Variable de corrélation \n",
    "variation_inter/var_global\n"
   ]
  }
 ],
 "metadata": {
  "kernelspec": {
   "display_name": "Python 3",
   "language": "python",
   "name": "python3"
  },
  "language_info": {
   "codemirror_mode": {
    "name": "ipython",
    "version": 3
   },
   "file_extension": ".py",
   "mimetype": "text/x-python",
   "name": "python",
   "nbconvert_exporter": "python",
   "pygments_lexer": "ipython3",
   "version": "3.8.3"
  },
  "orig_nbformat": 4
 },
 "nbformat": 4,
 "nbformat_minor": 2
}
